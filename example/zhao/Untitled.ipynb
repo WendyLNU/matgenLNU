{
 "cells": [
  {
   "cell_type": "code",
   "execution_count": 51,
   "metadata": {},
   "outputs": [],
   "source": [
    "import pymatgen as mg\n",
    "from pymatgen.io.vasp.outputs import BSVasprun, Vasprun\n",
    "from pymatgen import Spin\n",
    "from pymatgen.electronic_structure.plotter import BSPlotter, BSDOSPlotter, DosPlotter\n",
    "import matplotlib.pyplot as plt\n",
    "%matplotlib inline"
   ]
  },
  {
   "cell_type": "code",
   "execution_count": 2,
   "metadata": {},
   "outputs": [],
   "source": [
    "#The file \"vasprun.xml\" is in aim_data. Rename it after unzip.\n",
    "run = BSVasprun(\"vasprun.xml\", parse_projected_eigen=True)"
   ]
  },
  {
   "cell_type": "code",
   "execution_count": 4,
   "metadata": {},
   "outputs": [],
   "source": [
    "bs = run.get_band_structure(\"KPOINTS\")"
   ]
  },
  {
   "cell_type": "code",
   "execution_count": 5,
   "metadata": {},
   "outputs": [
    {
     "name": "stdout",
     "output_type": "stream",
     "text": [
      "number of bands 164\n",
      "number of kpoints 12\n"
     ]
    }
   ],
   "source": [
    "print(\"number of bands\", bs.nb_bands)\n",
    "print(\"number of kpoints\", len(bs.kpoints))"
   ]
  },
  {
   "cell_type": "code",
   "execution_count": 6,
   "metadata": {},
   "outputs": [
    {
     "name": "stdout",
     "output_type": "stream",
     "text": [
      "False\n",
      "True\n"
     ]
    }
   ],
   "source": [
    "print(bs.is_metal())\n",
    "print(bs.is_spin_polarized)"
   ]
  },
  {
   "cell_type": "code",
   "execution_count": 19,
   "metadata": {},
   "outputs": [
    {
     "data": {
      "text/plain": [
       "{<Spin.up: 1>: array([[-43.747 , -43.747 , -43.747 , ..., -43.7471, -43.747 , -43.7471],\n",
       "        [-43.7469, -43.7469, -43.7469, ..., -43.7469, -43.7469, -43.7469],\n",
       "        [-43.7469, -43.7469, -43.7469, ..., -43.7469, -43.7469, -43.7469],\n",
       "        ...,\n",
       "        [  8.0025,   8.0118,   7.9986, ...,   7.8745,   7.9726,   7.8497],\n",
       "        [  8.0579,   8.0429,   8.0202, ...,   7.8868,   7.9878,   7.8616],\n",
       "        [  8.0927,   8.0923,   8.1287, ...,   8.002 ,   8.0111,   7.9042]]),\n",
       " <Spin.down: -1>: array([[-43.7473, -43.7472, -43.7472, ..., -43.7473, -43.7472, -43.7473],\n",
       "        [-43.7471, -43.7472, -43.7472, ..., -43.7471, -43.7471, -43.7471],\n",
       "        [-43.7471, -43.7471, -43.7471, ..., -43.7471, -43.7471, -43.7471],\n",
       "        ...,\n",
       "        [  7.9851,   8.0131,   7.9891, ...,   7.8731,   7.9784,   7.8477],\n",
       "        [  8.0555,   8.0463,   8.0221, ...,   7.8808,   7.9826,   7.8552],\n",
       "        [  8.1049,   8.0924,   8.0873, ...,   8.0109,   8.1024,   7.9054]])}"
      ]
     },
     "execution_count": 19,
     "metadata": {},
     "output_type": "execute_result"
    }
   ],
   "source": [
    "bs.bands"
   ]
  },
  {
   "cell_type": "code",
   "execution_count": 20,
   "metadata": {},
   "outputs": [
    {
     "data": {
      "text/plain": [
       "(164, 12)"
      ]
     },
     "execution_count": 20,
     "metadata": {},
     "output_type": "execute_result"
    }
   ],
   "source": [
    "bs.bands[Spin.up].shape"
   ]
  },
  {
   "cell_type": "code",
   "execution_count": 47,
   "metadata": {},
   "outputs": [
    {
     "data": {
      "text/plain": [
       "array([8.1049, 8.0924, 8.0873, 8.1184, 8.1776, 8.1511, 8.1244, 7.9601,\n",
       "       8.059 , 8.0109, 8.1024, 7.9054])"
      ]
     },
     "execution_count": 47,
     "metadata": {},
     "output_type": "execute_result"
    }
   ],
   "source": [
    "bs.bands[Spin.down][163,:]"
   ]
  },
  {
   "cell_type": "code",
   "execution_count": 48,
   "metadata": {},
   "outputs": [
    {
     "name": "stdout",
     "output_type": "stream",
     "text": [
      "kx = 0.125 ky = 0.125 kz = 0.125 eps(k) =   8.1049\n",
      "kx = 0.375 ky = 0.125 kz = 0.125 eps(k) =   8.0924\n",
      "kx = -0.375 ky = 0.125 kz = 0.125 eps(k) =   8.0873\n",
      "kx = 0.375 ky = 0.375 kz = 0.125 eps(k) =   8.1184\n",
      "kx = -0.375 ky = 0.375 kz = 0.125 eps(k) =   8.1776\n",
      "kx = -0.125 ky = 0.375 kz = 0.125 eps(k) =   8.1511\n",
      "kx = 0.375 ky = -0.375 kz = 0.125 eps(k) =   8.1244\n",
      "kx = -0.375 ky = -0.375 kz = 0.125 eps(k) =   7.9601\n",
      "kx = -0.125 ky = -0.375 kz = 0.125 eps(k) =   8.0590\n",
      "kx = -0.125 ky = -0.125 kz = 0.125 eps(k) =   8.0109\n",
      "kx = 0.375 ky = 0.375 kz = 0.375 eps(k) =   8.1024\n",
      "kx = -0.375 ky = -0.375 kz = 0.375 eps(k) =   7.9054\n"
     ]
    }
   ],
   "source": [
    "\n",
    "for kpoints,e in zip(bs.kpoints,bs.bands[Spin.down][163,:]):\n",
    "    print(\"kx = %5.3f ky = %5.3f kz = %5.3f eps(k) = %8.4f\" % (tuple(kpoints.frac_coords) + (e,)))\n"
   ]
  },
  {
   "cell_type": "code",
   "execution_count": 54,
   "metadata": {},
   "outputs": [
    {
     "data": {
      "image/png": "[encoded data removed]",
      "text/plain": [
       "<Figure size 432x288 with 1 Axes>"
      ]
     },
     "metadata": {},
     "output_type": "display_data"
    }
   ],
   "source": [
    "ax = plt.gca()"
   ]
  },
  {
   "cell_type": "code",
   "execution_count": 55,
   "metadata": {},
   "outputs": [
    {
     "data": {
      "text/plain": [
       "Text(0.5,1,'NiO Band Structure')"
      ]
     },
     "execution_count": 55,
     "metadata": {},
     "output_type": "execute_result"
    }
   ],
   "source": [
    "ax.set_title(\"NiO Band Structure\", fontsize=20)"
   ]
  },
  {
   "cell_type": "code",
   "execution_count": 56,
   "metadata": {},
   "outputs": [],
   "source": [
    "xlim = ax.get_xlim()"
   ]
  },
  {
   "cell_type": "code",
   "execution_count": 59,
   "metadata": {},
   "outputs": [
    {
     "data": {
      "text/plain": [
       "<matplotlib.collections.LineCollection at 0xcbeecf8358>"
      ]
     },
     "execution_count": 59,
     "metadata": {},
     "output_type": "execute_result"
    }
   ],
   "source": [
    "ax.hlines(0,xlim[0],xlim[1],linestyles=\"dashed\",color=\"black\")"
   ]
  },
  {
   "cell_type": "code",
   "execution_count": 60,
   "metadata": {},
   "outputs": [
    {
     "data": {
      "text/plain": [
       "<matplotlib.legend.Legend at 0xcbeeba3c18>"
      ]
     },
     "execution_count": 60,
     "metadata": {},
     "output_type": "execute_result"
    }
   ],
   "source": [
    "ax.plot((),(),\"b-\",label=\"spin up\")\n",
    "ax.plot((),(),\"r--\",label=\"spin down\")\n",
    "ax.legend(fontsize=16,loc=\"upper left\")"
   ]
  },
  {
   "cell_type": "code",
   "execution_count": 61,
   "metadata": {},
   "outputs": [
    {
     "name": "stdout",
     "output_type": "stream",
     "text": [
      " 驱动器 C 中的卷没有标签。\n",
      " 卷的序列号是 9EAC-BE8F\n",
      "\n",
      " C:\\Users\\纹萱\\PycharmProjects\\matgenLNU\\example\\zhao 的目录\n",
      "\n",
      "2018/07/09  13:23    <DIR>          .\n",
      "2018/07/09  13:23    <DIR>          ..\n",
      "2018/07/09  11:46    <DIR>          .ipynb_checkpoints\n",
      "2018/07/09  13:23             1,034 band_structure_of_nio.py\n",
      "2018/07/04  09:35             2,569 Basic functionality.py\n",
      "2018/07/06  23:21             2,400 Calculating Reaction Energies with the Materials API.py\n",
      "2018/07/05  21:48             1,431 Calculating XRD patterns.py\n",
      "2018/07/03  22:45             1,067 CsCl.cif\n",
      "2018/07/06  23:21               668 how to get data from MP.py\n",
      "2018/07/04  20:48            12,897 PDF - alpha CsCl.png\n",
      "2018/07/03  22:45               375 POSCAR\n",
      "2018/07/09  13:19            11,922 Untitled.ipynb\n",
      "2018/07/03  09:27        22,769,095 vasprun.xml\n",
      "              10 个文件     22,803,458 字节\n",
      "               3 个目录 74,771,906,560 可用字节\n"
     ]
    }
   ],
   "source": [
    "ls"
   ]
  },
  {
   "cell_type": "code",
   "execution_count": null,
   "metadata": {},
   "outputs": [],
   "source": []
  }
 ],
 "metadata": {
  "kernelspec": {
   "display_name": "Python 3",
   "language": "python",
   "name": "python3"
  },
  "language_info": {
   "codemirror_mode": {
    "name": "ipython",
    "version": 3
   },
   "file_extension": ".py",
   "mimetype": "text/x-python",
   "name": "python",
   "nbconvert_exporter": "python",
   "pygments_lexer": "ipython3",
   "version": "3.6.5"
  }
 },
 "nbformat": 4,
 "nbformat_minor": 2
}
