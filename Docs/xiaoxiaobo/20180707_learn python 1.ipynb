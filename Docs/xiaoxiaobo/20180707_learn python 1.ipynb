{
 "cells": [
  {
   "cell_type": "markdown",
   "metadata": {},
   "source": [
    "Python中的print()函数也可以接受多个字符串，用逗号“,”隔开，就可以连成一串输出\n",
    "print()会依次打印每个字符串，遇到逗号“,”会输出一个空格，因此，输出的字符串是这样拼起来的：\n",
    "例如："
   ]
  },
  {
   "cell_type": "code",
   "execution_count": null,
   "metadata": {},
   "outputs": [],
   "source": [
    "输入 print('the quick brown fox','jumps over','the lazy dog')\n",
    "就会输出:the quick brown fox jumps over the lazy dog"
   ]
  },
  {
   "cell_type": "markdown",
   "metadata": {},
   "source": [
    "Python提供了一个输入函数是input() 可以让用户输入字符串，并存放到一个变量里。\n",
    "比如输入用户的名字："
   ]
  },
  {
   "cell_type": "code",
   "execution_count": null,
   "metadata": {},
   "outputs": [],
   "source": [
    "name=imput()\n",
    "Michael\n",
    "那么name里的值就被赋予了 Michael"
   ]
  },
  {
   "cell_type": "markdown",
   "metadata": {},
   "source": [
    "Python的函数体用‘：’来标识，且缩进表示是在一个函数体里面，按照约定俗成的管理，应该始终坚持使用4个空格的缩进。"
   ]
  },
  {
   "cell_type": "markdown",
   "metadata": {},
   "source": [
    "在Python中，有两种除法，一种除法是/：10/3=3.33333333333333\n",
    "还有一种除法是//，称为地板除，两个整数的除法仍然是整数：10//3=3"
   ]
  },
  {
   "cell_type": "markdown",
   "metadata": {},
   "source": [
    "Python的循环有两种，一种是for...in循环，依次把list或tuple中的每个元素迭代出来\n",
    "\n"
   ]
  },
  {
   "cell_type": "code",
   "execution_count": null,
   "metadata": {},
   "outputs": [],
   "source": [
    "例如:names=['Michael','Bob','tracy']\n",
    "      For name in names:\n",
    "      Print(name)"
   ]
  },
  {
   "cell_type": "markdown",
   "metadata": {},
   "source": [
    "就会依次打出names的每一个元素：Michael Bob tracy\n",
    "第二种循环是while循环，只要条件满足，就不断循环，条件不满足时退出循环。这个与c,java类似，就不举例了"
   ]
  },
  {
   "cell_type": "markdown",
   "metadata": {},
   "source": [
    "Python还提供了函数名赋值给变量的功能，相当于给这个函数起别名：\n",
    "例如a=abs\n",
    "    a=(-1)\n",
    "运行结果: 1\n"
   ]
  },
  {
   "cell_type": "markdown",
   "metadata": {},
   "source": [
    "Python的函数调用方面还提供了默认参数的设置。例如，我们经常计算x的平方，那么我们可以这样做：\n",
    "这样，大多数学生注册时不需要提供年龄和城市，只提供必须的两个参数，只有与默认参数不符的学生才需要提供额外的信息：\n",
    "\n"
   ]
  },
  {
   "cell_type": "code",
   "execution_count": null,
   "metadata": {},
   "outputs": [],
   "source": [
    "def power(x, n=2):\n",
    "    s = 1\n",
    "    while n > 0:\n",
    "        n = n - 1\n",
    "        s = s * x\n",
    "    return s"
   ]
  },
  {
   "cell_type": "markdown",
   "metadata": {},
   "source": [
    "而对于n > 2的其他情况，就必须明确地传入n，比如power(5, 3)，这样就可以计算出5的三次方\n",
    "默认参数最大的好处是能降低调用函数的难度：\n",
    "例如：我们写个一年级小学生注册的函数，需要传入name和gender两个参数："
   ]
  },
  {
   "cell_type": "code",
   "execution_count": null,
   "metadata": {},
   "outputs": [],
   "source": [
    "def enroll(name, gender):\n",
    "    print('name:', name)\n",
    "    print('gender:', gender)"
   ]
  },
  {
   "cell_type": "markdown",
   "metadata": {},
   "source": [
    "如果要继续传入年龄、城市等信息怎么办？这样会使得调用函数的复杂度大大增加。于是我们可以把年龄和城市设为默认参数"
   ]
  },
  {
   "cell_type": "code",
   "execution_count": null,
   "metadata": {},
   "outputs": [],
   "source": [
    "def enroll(name, gender, age=6, city='Beijing'):\n",
    "    print('name:', name)\n",
    "    print('gender:', gender)\n",
    "    print('age:', age)\n",
    "    print('city:', city)"
   ]
  },
  {
   "cell_type": "markdown",
   "metadata": {},
   "source": [
    "这样，大多数学生注册时不需要提供年龄和城市，只提供必须的两个参数，只有与默认参数不符的学生才需要提供额外的信息："
   ]
  },
  {
   "cell_type": "code",
   "execution_count": null,
   "metadata": {},
   "outputs": [],
   "source": [
    "enroll('Bob', 'M', 7)\n",
    "enroll('Adam', 'M', city='Tianjin')"
   ]
  },
  {
   "cell_type": "markdown",
   "metadata": {},
   "source": [
    "可以看出默认参数的设置在某些情况确实可以使调用函数的复杂度大大减少"
   ]
  },
  {
   "cell_type": "code",
   "execution_count": null,
   "metadata": {},
   "outputs": [],
   "source": []
  }
 ],
 "metadata": {
  "kernelspec": {
   "display_name": "Python 3",
   "language": "python",
   "name": "python3"
  },
  "language_info": {
   "codemirror_mode": {
    "name": "ipython",
    "version": 3
   },
   "file_extension": ".py",
   "mimetype": "text/x-python",
   "name": "python",
   "nbconvert_exporter": "python",
   "pygments_lexer": "ipython3",
   "version": "3.6.5"
  }
 },
 "nbformat": 4,
 "nbformat_minor": 2
}
