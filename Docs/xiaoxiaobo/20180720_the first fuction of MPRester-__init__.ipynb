{
 "cells": [
  {
   "cell_type": "code",
   "execution_count": 1,
   "metadata": {},
   "outputs": [],
   "source": [
    " def __init__(self, api_key=None,\n",
    "                 endpoint=\"https://www.materialsproject.org/rest/v2\"):\n",
    "        if api_key is not None:\n",
    "            self.api_key = api_key\n",
    "        else:\n",
    "            self.api_key = SETTINGS.get(\"PMG_MAPI_KEY\", \"\")\n",
    "        self.preamble = endpoint\n",
    "        import requests\n",
    "        if sys.version_info[0] < 3:\n",
    "            try:\n",
    "                from pybtex import __version__\n",
    "            except ImportError:\n",
    "                warnings.warn(\"If you query for structure data encoded using MP's \"\n",
    "                            \"Structure Notation Language (SNL) format and you use \"\n",
    "                            \"`mp_decode=True` (the default) for MPRester queries, \"\n",
    "                            \"you should install dependencies via \"\n",
    "                            \"`pip install pymatgen[matproj.snl]`.\")\n",
    "        self.session = requests.Session()\n",
    "        self.session.headers = {\"x-api-key\": self.api_key}"
   ]
  },
  {
   "cell_type": "markdown",
   "metadata": {},
   "source": [
    "这是一个内部函数，\n",
    "（1）、__init__方法的第一参数永远是self，表示创建的类实例本身，因此，在__init__方法内部，就可以把各种属性绑定到self，因为self就指向创建的实例本身。（2）、有了__init__方法，在创建实例的时候，就不能传入空的参数了，必须传入与__init__方法匹配的参数，但self不需要传，Python解释器会自己把实例变量传进去。通过判定获得self.api_key的值，之后通过版本的判定进行判断，try except函数Python的函数，先执行try中的语句，如果运行成功则直接跳出，不运行except中的函数；如果报错，则运行except里的函数。这是一个变量赋值的过程，如有错误，欢迎指正"
   ]
  },
  {
   "cell_type": "code",
   "execution_count": null,
   "metadata": {},
   "outputs": [],
   "source": [
    "_"
   ]
  }
 ],
 "metadata": {
  "kernelspec": {
   "display_name": "Python 3",
   "language": "python",
   "name": "python3"
  },
  "language_info": {
   "codemirror_mode": {
    "name": "ipython",
    "version": 3
   },
   "file_extension": ".py",
   "mimetype": "text/x-python",
   "name": "python",
   "nbconvert_exporter": "python",
   "pygments_lexer": "ipython3",
   "version": "3.6.5"
  }
 },
 "nbformat": 4,
 "nbformat_minor": 2
}
