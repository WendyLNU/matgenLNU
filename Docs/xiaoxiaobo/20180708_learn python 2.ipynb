{
 "cells": [
  {
   "cell_type": "markdown",
   "metadata": {},
   "source": [
    "切片：取一个list或tuple的部分元素是非常常见的操作。比如，一个list如下："
   ]
  },
  {
   "cell_type": "code",
   "execution_count": null,
   "metadata": {},
   "outputs": [],
   "source": [
    "L=['Michael’,’Sarah’,’Tracy’,’Bob’,’Jack’]"
   ]
  },
  {
   "cell_type": "markdown",
   "metadata": {},
   "source": [
    "笨方法：取元素要用L[0],L[1]等，若要去很多元素可能还需要用到循环的思想，但是Python提供了一种切片（Slice）操作符，能大大简化这种操作\n",
    "举例说明一下，例如取前三个元素\n"
   ]
  },
  {
   "cell_type": "code",
   "execution_count": null,
   "metadata": {},
   "outputs": [],
   "source": [
    "L[0:3]"
   ]
  },
  {
   "cell_type": "markdown",
   "metadata": {},
   "source": [
    "一行命令即可取出前三个元素，这段代码的含义是从第0个元素开始取，直到第3号元素为止（不包括第3号元素）。\n",
    "同样也提供了倒数的方法，例如我们要后两个的元素，那么只需要输入：\n"
   ]
  },
  {
   "cell_type": "code",
   "execution_count": null,
   "metadata": {},
   "outputs": [],
   "source": [
    "L[-2]"
   ]
  },
  {
   "cell_type": "markdown",
   "metadata": {},
   "source": [
    "即可取出后两个元素，可见这种方法非常方便"
   ]
  },
  {
   "cell_type": "markdown",
   "metadata": {},
   "source": [
    "传入函数：在Python中变量可以指向函数，函数的参数能接收变量，那么一个函数就可以接收另一个函数作为参数，这种函数就称之为高阶函数，一个简单的高阶函数的例子："
   ]
  },
  {
   "cell_type": "code",
   "execution_count": null,
   "metadata": {},
   "outputs": [],
   "source": [
    "def add(x, y, f):\n",
    "    return f(x) + f(y)\n"
   ]
  },
  {
   "cell_type": "markdown",
   "metadata": {},
   "source": [
    "当我们调用add(-5, 6, abs)时，参数x，y和f分别接收-5，6和abs，根据函数定义，我们可以推导计算过程为："
   ]
  },
  {
   "cell_type": "code",
   "execution_count": null,
   "metadata": {},
   "outputs": [],
   "source": [
    "x = -5\n",
    "y = 6\n",
    "f = abs\n",
    "f(x) + f(y) ==> abs(-5) + abs(6) ==> 11\n",
    "return 11\n"
   ]
  },
  {
   "cell_type": "markdown",
   "metadata": {},
   "source": [
    "它简单快捷实现了函数与函数之间的调用关系。"
   ]
  },
  {
   "cell_type": "markdown",
   "metadata": {},
   "source": [
    "MAP函数：\n",
    "Python内建了map()，map()函数接收两个参数，一个是函数，一个是Iterable，map将传入的函数依次作用到序列的每个元素，并把结果作为新的Iterator返回。具体例子如下：\n"
   ]
  },
  {
   "cell_type": "code",
   "execution_count": null,
   "metadata": {},
   "outputs": [],
   "source": [
    "def f(x):\n",
    "...     return x * x\n",
    "...\n",
    ">>> r = map(f, [1, 2, 3, 4, 5, 6, 7, 8, 9])\n",
    ">>> list(r)\n",
    "[1, 4, 9, 16, 25, 36, 49, 64, 81]\n"
   ]
  },
  {
   "cell_type": "markdown",
   "metadata": {},
   "source": [
    "map()传入的第一个参数是f，即函数对象本身。Map函数的意义在于可以简化代码，并且可以在计算完之后返回一个新的list,而用循环的话无法通过计算并且形成新的list."
   ]
  },
  {
   "cell_type": "markdown",
   "metadata": {},
   "source": [
    "Reduce函数：\n",
    "reduce把一个函数作用在一个序列[x1, x2, x3, ...]上，这个函数必须接收两个参数，reduce把结果继续和序列的下一个元素做累积计算\n",
    "例如：如果要把序列[1, 3, 5, 7, 9]变换成整数13579\n"
   ]
  },
  {
   "cell_type": "code",
   "execution_count": null,
   "metadata": {},
   "outputs": [],
   "source": [
    ">>> from functools import reduce\n",
    ">>> def fn(x, y):\n",
    "...     return x * 10 + y\n",
    "...\n",
    ">>> reduce(fn, [1, 3, 5, 7, 9])\n",
    "13579\n"
   ]
  },
  {
   "cell_type": "markdown",
   "metadata": {},
   "source": [
    "排序算法：\n",
    "排序也是在程序中经常用到的算法。无论使用冒泡排序还是快速排序，排序的核心是比较两个元素的大小。Python内置的sorted()函数就可以对list进行排序，例如：\n"
   ]
  },
  {
   "cell_type": "code",
   "execution_count": null,
   "metadata": {},
   "outputs": [],
   "source": [
    ">>> sorted([36, 5, -12, 9, -21])\n",
    "[-21, -12, 5, 9, 36]\n"
   ]
  },
  {
   "cell_type": "markdown",
   "metadata": {},
   "source": [
    "此外，sorted()函数也是一个高阶函数，它还可以接收一个key函数来实现自定义的排序，例如按绝对值大小排序："
   ]
  },
  {
   "cell_type": "code",
   "execution_count": null,
   "metadata": {},
   "outputs": [],
   "source": [
    ">>> sorted([36, 5, -12, 9, -21], key=abs)\n",
    "[5, 9, -12, -21, 36]\n"
   ]
  },
  {
   "cell_type": "markdown",
   "metadata": {},
   "source": [
    "从上述例子可以看出，高阶函数的抽象能力是非常强大的，而且，核心代码可以保持得非常简洁。"
   ]
  },
  {
   "cell_type": "code",
   "execution_count": null,
   "metadata": {},
   "outputs": [],
   "source": []
  }
 ],
 "metadata": {
  "kernelspec": {
   "display_name": "Python 3",
   "language": "python",
   "name": "python3"
  },
  "language_info": {
   "codemirror_mode": {
    "name": "ipython",
    "version": 3
   },
   "file_extension": ".py",
   "mimetype": "text/x-python",
   "name": "python",
   "nbconvert_exporter": "python",
   "pygments_lexer": "ipython3",
   "version": "3.6.5"
  }
 },
 "nbformat": 4,
 "nbformat_minor": 2
}
