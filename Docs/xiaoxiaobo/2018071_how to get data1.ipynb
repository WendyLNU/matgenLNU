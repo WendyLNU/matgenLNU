{
 "cells": [
  {
   "cell_type": "markdown",
   "metadata": {},
   "source": [
    "思考：如何通过MP（尽可能多的）得到所需要的数据？"
   ]
  },
  {
   "cell_type": "markdown",
   "metadata": {},
   "source": [
    "通过之前的例子总结运行了以下的例子："
   ]
  },
  {
   "cell_type": "code",
   "execution_count": null,
   "metadata": {},
   "outputs": [],
   "source": [
    "from  pymatgen.ext.matproj  import MPRester#Materials Project REST API的适配器\n",
    "a = MPRester(\"S3lw1QomLO8bTiT7\")#这将初始化REST适配器，并且将API秘钥加入其中，可以从MP网站中获取到数据\n",
    "all_entries = a.get_entries_in_chemsys(['CaO'])#This gets all entries belonging to the Ca-C-O system.\n",
    "print(all_entries)"
   ]
  },
  {
   "cell_type": "markdown",
   "metadata": {},
   "source": [
    "得到如下的结果："
   ]
  },
  {
   "cell_type": "code",
   "execution_count": null,
   "metadata": {},
   "outputs": [],
   "source": [
    "[ComputedEntry mp-10683 - Ca1\n",
    "Energy = -1.6033\n",
    "Correction = 0.0000\n",
    "Parameters:\n",
    "run_type = GGA\n",
    "is_hubbard = False\n",
    "pseudo_potential = {'functional': 'PBE', 'labels': ['Ca_sv'], 'pot_type': 'paw'}\n",
    "hubbards = {}\n",
    "potcar_symbols = ['PBE Ca_sv']\n",
    "oxide_type = None\n",
    "Data:\n",
    "oxide_type = None,\n"
   ]
  },
  {
   "cell_type": "markdown",
   "metadata": {},
   "source": [
    "得到的结果由于项目太少，排除掉这个方法，但是这也提供了用函数去调用的数据的思考方式，于是用MPRester的函数库去找找有没有相关可以符合条件的函数进行调用。"
   ]
  },
  {
   "cell_type": "code",
   "execution_count": null,
   "metadata": {},
   "outputs": [],
   "source": [
    "class MPRester(object):\n",
    "    supported_properties = (\"energy\", \"energy_per_atom\", \"volume\",\n",
    "                            \"formation_energy_per_atom\", \"nsites\",\n",
    "                            \"unit_cell_formula\", \"pretty_formula\",\n",
    "                            \"is_hubbard\", \"elements\", \"nelements\",\n",
    "                            \"e_above_hull\", \"hubbards\", \"is_compatible\",\n",
    "                            \"spacegroup\", \"task_ids\", \"band_gap\", \"density\",\n",
    "                            \"icsd_id\", \"icsd_ids\", \"cif\", \"total_magnetization\",\n",
    "                            \"material_id\", \"oxide_type\", \"tags\", \"elasticity\")\n",
    "\n",
    "    supported_task_properties = (\"energy\", \"energy_per_atom\", \"volume\",\n",
    "                                 \"formation_energy_per_atom\", \"nsites\",\n",
    "                                 \"unit_cell_formula\", \"pretty_formula\",\n",
    "                                 \"is_hubbard\",\n",
    "                                 \"elements\", \"nelements\", \"e_above_hull\",\n",
    "                                 \"hubbards\",\n",
    "                                 \"is_compatible\", \"spacegroup\",\n",
    "                                 \"band_gap\", \"density\", \"icsd_id\", \"cif\")\n",
    "    \n",
    "    \n",
    "    \n",
    "        def __init__(self, api_key=None,\n",
    "                 endpoint=\"https://www.materialsproject.org/rest/v2\"):\n",
    "        if api_key is not None:\n",
    "            self.api_key = api_key\n",
    "        else:\n",
    "            self.api_key = SETTINGS.get(\"PMG_MAPI_KEY\", \"\")\n",
    "        self.preamble = endpoint\n",
    "        import requests\n",
    "        if sys.version_info[0] < 3:\n",
    "            try:\n",
    "                from pybtex import __version__\n",
    "            except ImportError:\n",
    "                warnings.warn(\"If you query for structure data encoded using MP's \"\n",
    "                            \"Structure Notation Language (SNL) format and you use \"\n",
    "                            \"`mp_decode=True` (the default) for MPRester queries, \"\n",
    "                            \"you should install dependencies via \"\n",
    "                            \"`pip install pymatgen[matproj.snl]`.\")\n",
    "        self.session = requests.Session()\n",
    "        self.session.headers = {\"x-api-key\": self.api_key}\n",
    "        .............."
   ]
  },
  {
   "cell_type": "markdown",
   "metadata": {},
   "source": [
    "如代码所示：supported_properties和supported_task_properties里面有很多项，猜测这就是能用MPRester所支持的属性，之后底下还有一系列的函数，函数的内容也和MPRester调用数据相关，所以从这个角度入手学习，探索是否能得到MP数据库里的数据。"
   ]
  },
  {
   "cell_type": "code",
   "execution_count": null,
   "metadata": {},
   "outputs": [],
   "source": []
  }
 ],
 "metadata": {
  "kernelspec": {
   "display_name": "Python 3",
   "language": "python",
   "name": "python3"
  },
  "language_info": {
   "codemirror_mode": {
    "name": "ipython",
    "version": 3
   },
   "file_extension": ".py",
   "mimetype": "text/x-python",
   "name": "python",
   "nbconvert_exporter": "python",
   "pygments_lexer": "ipython3",
   "version": "3.6.5"
  }
 },
 "nbformat": 4,
 "nbformat_minor": 2
}
