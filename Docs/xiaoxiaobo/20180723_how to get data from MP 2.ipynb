{
 "cells": [
  {
   "cell_type": "markdown",
   "metadata": {},
   "source": [
    "今天研究的主要内容是关于MP网站的数据获取方面的。"
   ]
  },
  {
   "cell_type": "markdown",
   "metadata": {},
   "source": [
    "一.在https://materialsproject.org/open 这个网站上介绍了api的的相关用法，其中给出了获取Fe3O4的URL：https://www.materialsproject.org/rest/v1/materials/Fe2O3/vasp 通过这个网站我们只需要修改URL中的Fe3O4，就可以获得各种化合物的信息，值得一提的是注意其中的V1，后文会讲到。"
   ]
  },
  {
   "cell_type": "markdown",
   "metadata": {},
   "source": [
    "二.MP网站还可以跳转到https://materialsproject.org/docs/api这个网站，同样是介绍API的功能，相比较而言更全面一些，从这个网站得知了以下信息：1.获取材料（计算材料数据）可以通过：https://www.materialsproject.org/rest/v2/materials/{material id，formula或chemical system} / vasp / {property} 获取（当然这个域名也需要加入用户的API）。这里面的标识符可以是材料项目材料id（例如，mp-1234），公式，例如（Fe 2 O 3），或化学系统（“ - ”分离的元素列表，例如，Li-Fe-O）。指定配方或化学系统将分别返回具有该配方或该化学系统的所有材料的信息。注意，化学系统包括所有子系统，即Li-Fe-O化学系统将包括所有Li，Fe，O，Fe x O y，Li x O y，Li x Fe y，Li x Fe y O z化合物。可以指定属性以请求特定的信息子集。如果未指定任何属性，则返回一组通常有用的属性。材料ID始终作为响应的一部分返回。通过这个例子就更加灵活的获得各种数据，其中该网站也介绍了通过此方法能获得到的数据，通过测试，发现网站上给出的属性有一些在Fe3O4中没有找到：dos；initial_structure；final_structure；structure；bandstructure；bandstructure_uniform；entry。这些就是Fe3O4所没有的，但是这些是否在其他的有关电池的化合物当中有体现呢，还需后续研究。还有一点，值得注意，这个网站给出的查询URL中存在的是V2而不是V1，通过相同物质的不同域名的显示结果来看，v1中独有 \"piezo\": null, \"diel\": null,而V2中没有，其他的都是一样的，这个值得注意。"
   ]
  },
  {
   "cell_type": "markdown",
   "metadata": {},
   "source": [
    "三.通过化学化学方程式获得物质ID的URL方法也介绍了 https://www.materialsproject.org/rest/v2/materials/{formula或化学系统}/mids 这是几种不需要提供API密钥的查询类型之一。还可以通过URL的方式得到材料（实验数据）；任务（详细计算数据）等。也支持类似Mongo的语言进行高级查询，以便在Materials Project数据库上进行灵活查询。"
   ]
  },
  {
   "cell_type": "code",
   "execution_count": null,
   "metadata": {},
   "outputs": [],
   "source": []
  }
 ],
 "metadata": {
  "kernelspec": {
   "display_name": "Python 3",
   "language": "python",
   "name": "python3"
  },
  "language_info": {
   "codemirror_mode": {
    "name": "ipython",
    "version": 3
   },
   "file_extension": ".py",
   "mimetype": "text/x-python",
   "name": "python",
   "nbconvert_exporter": "python",
   "pygments_lexer": "ipython3",
   "version": "3.6.5"
  }
 },
 "nbformat": 4,
 "nbformat_minor": 2
}
