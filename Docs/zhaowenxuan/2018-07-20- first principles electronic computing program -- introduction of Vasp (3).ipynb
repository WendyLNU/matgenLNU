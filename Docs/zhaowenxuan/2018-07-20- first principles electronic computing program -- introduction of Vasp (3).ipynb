{
 "cells": [
  {
   "cell_type": "markdown",
   "metadata": {},
   "source": [
    "2018-07-20"
   ]
  },
  {
   "cell_type": "markdown",
   "metadata": {},
   "source": [
    "<font size=5 face=\"黑体\">第一原理电子计算程序——Vasp的介绍(3)</font>"
   ]
  },
  {
   "cell_type": "markdown",
   "metadata": {},
   "source": [
    "<font size=5 face=\"微软雅黑\">INCAR文件内容说明:</font>"
   ]
  },
  {
   "cell_type": "markdown",
   "metadata": {},
   "source": [
    "<font size=4>（12）ISIF=0|1|2|3|4|5|6|7</font><br>\n",
    "默认：IBRION=0时，ISIF=0,其他IBRION=2。<br>\n",
    "ISIF控制离子运行中计算应力张量。如当在做离子驰豫时，ISIF=2，将计算力、应力张量和驰豫离子可变，但元胞的形状和大小不改变。具体情况参考下表。<br>\n",
    "<table  width=\"500\" height=\"300\"  >\n",
    "<tr>\n",
    "    <td>ISIF</td><td>计算力</td><td>应力张量</td><td>驰豫离子</td><td>改变元胞形状</td><td>改变元胞体积</td>\n",
    "    </tr>\n",
    "    <tr>\n",
    "    <td>0</td><td>是</td><td>否</td><td>是</td><td>否</td><td>否</td>\n",
    "    </tr>\n",
    "        <tr>\n",
    "    <td>1</td><td>是</td><td>是</td><td>是</td><td>否</td><td>否</td>\n",
    "    </tr>\n",
    "        <tr>\n",
    "    <td>2</td><td>是</td><td>是</td><td>是</td><td>否</td><td>否</td>\n",
    "    </tr>\n",
    "        <tr>\n",
    "    <td>3</td><td>是</td><td>是</td><td>是</td><td>是</td><td>是</td>\n",
    "    </tr>\n",
    "        <tr>\n",
    "    <td>4</td><td>是</td><td>是</td><td>是</td><td>是</td><td>否</td>\n",
    "    </tr>\n",
    "        <tr>\n",
    "    <td>5</td><td>是</td><td>是</td><td>否</td><td>是</td><td>否</td>\n",
    "    </tr>\n",
    "        <tr>\n",
    "    <td>6</td><td>是</td><td>是</td><td>否</td><td>是</td><td>是</td>\n",
    "    </tr>\n",
    "         <tr>\n",
    "    <td>7</td><td>是</td><td>是</td><td>否</td><td>否</td><td>是</td>\n",
    "    </tr>\n",
    "</table>"
   ]
  },
  {
   "cell_type": "markdown",
   "metadata": {},
   "source": [
    "<font size=4>（13）ISMEAR=-5|-4|-3|-2|-1|0|N</font><br>\n",
    "<font size=4>SIGMA:展开的宽度（单位：eV）</font><br>\n",
    "默认：ISMEAR=1 SIGMA=0.2<br>\n",
    "<font size=4>ISMEAR选择：</font><br>\n",
    "(1)对半导体或者绝缘体选取-5，如果单胞较大时，或者所选取K点数目较少时，用0；\n",
    "(2)对导体，通常用0；\n",
    "<font size=4>SIGMA取值：</font>SIFMA取值的原则是使得计算得到的TS项(OUTCAR中)，分摊到每个原子上时小于1meV，否则得到的总能量不准确，对导体尤其要注意参数的选择。"
   ]
  },
  {
   "cell_type": "markdown",
   "metadata": {},
   "source": [
    "<font size=4>（14）以下为构型优化所用的关键词：</font><br>\n",
    "<font size=4>NEW=整数</font>（构型优化的最大轮数）<br>\n",
    "<font size=4>IBRION=-1|0|1|2</font><br>\n",
    "构型优化的方法：<br>\n",
    "-1：构型不变更；<br>\n",
    "0:分子动力学模拟；<br>\n",
    "1：采用准牛顿方法确定新的构型；<br>\n",
    "2：采用CG方法确定构型（当初始位置离平衡位置较远时使用）（这个时我们要用到的）；<br>\n",
    "<font size=4>POTIM=数值</font><br>\n",
    "控制构型优化步长，缺省为0.5，对动力学模拟则为时间步长（单位为fs）"
   ]
  },
  {
   "cell_type": "markdown",
   "metadata": {},
   "source": [
    "<font size=4>（15）输出控制关键词：</font><br>\n",
    "LCHARG=.FALSE.(输出电荷密度)<br>\n",
    "LWAVE=.FALSE.(输出波函数)<br>\n",
    "LVTOT=.FALSE.(输出静电势，求功函时使用)"
   ]
  },
  {
   "cell_type": "markdown",
   "metadata": {},
   "source": [
    "<font size=4>（16）其他关键词：</font><br>\n",
    "NPAR=8(CPU数目，并行计算时使用)<br>\n",
    "LPLANE=.TRUE.(与并行算法有关)"
   ]
  },
  {
   "cell_type": "code",
   "execution_count": null,
   "metadata": {},
   "outputs": [],
   "source": []
  },
  {
   "cell_type": "code",
   "execution_count": null,
   "metadata": {},
   "outputs": [],
   "source": []
  }
 ],
 "metadata": {
  "kernelspec": {
   "display_name": "Python 3",
   "language": "python",
   "name": "python3"
  },
  "language_info": {
   "codemirror_mode": {
    "name": "ipython",
    "version": 3
   },
   "file_extension": ".py",
   "mimetype": "text/x-python",
   "name": "python",
   "nbconvert_exporter": "python",
   "pygments_lexer": "ipython3",
   "version": "3.6.5"
  }
 },
 "nbformat": 4,
 "nbformat_minor": 2
}
