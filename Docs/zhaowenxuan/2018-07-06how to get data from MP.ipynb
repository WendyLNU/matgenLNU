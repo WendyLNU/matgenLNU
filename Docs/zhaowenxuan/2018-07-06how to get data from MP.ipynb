{
 "cells": [
  {
   "cell_type": "markdown",
   "metadata": {},
   "source": [
    "2018-07-06"
   ]
  },
  {
   "cell_type": "markdown",
   "metadata": {},
   "source": [
    "Pymatgen（Python材料基金组学）是可以处理许多化学相关数据的一个Python子包。我们可以用它得到许多关于化学的实验，但是化学实验需要我们手中有化学物质的数据，而MP数据库给我们提供了MAPI的数据接口的方法。Materials API的大部分输出是使用pymatgen库作为后端生成的，实际上许多响应都是基于pymatgen的json序列化格式。使用MAPI和pymatgen，研究人员可以利用材料项目中的大量计算和实验数据及其自己的数据进行复杂的分析。下面我们将举例说明，用这种方法提取数据，并且打印显示出来。"
   ]
  },
  {
   "cell_type": "code",
   "execution_count": 14,
   "metadata": {},
   "outputs": [],
   "source": [
    "import re\n",
    "from pymatgen.entries.computed_entries import ComputedEntry\n",
    "from pymatgen.entries.compatibility import MaterialsProjectCompatibility\n",
    "from  pymatgen  import MPRester#REST API的适配器"
   ]
  },
  {
   "cell_type": "code",
   "execution_count": 10,
   "metadata": {},
   "outputs": [],
   "source": [
    "#This initializes the REST adaptor. Put your own API key in.\n",
    "a = MPRester(\"S3lw1QomLO8bTiT7\")#将API 秘钥输入适配器中，并且初始化适配器   "
   ]
  },
  {
   "cell_type": "code",
   "execution_count": 15,
   "metadata": {},
   "outputs": [],
   "source": [
    "entries = m.get_entries(\"LiFePO4\")"
   ]
  },
  {
   "cell_type": "markdown",
   "metadata": {},
   "source": [
    "得到LiFePO4的所有数据信息。"
   ]
  },
  {
   "cell_type": "code",
   "execution_count": 16,
   "metadata": {},
   "outputs": [
    {
     "name": "stdout",
     "output_type": "stream",
     "text": [
      "The uncorrected value of the energy of Li2 Fe2 P2 O8 is -94.392873 eV\n",
      "The following corrections / screening are applied for MaterialsProjectCompatibility:\n",
      "\n",
      "MPRelaxSet Potcar Correction correction: Checks that POTCARs are valid within a pre-defined input set. This\n",
      "    ensures that calculations performed using different InputSets are not\n",
      "    compared against each other.\n",
      "\n",
      "    Entry.parameters must contain a \"potcar_symbols\" key that is a list of\n",
      "    all POTCARs used in the run. Again, using the example of an Fe2O3 run\n",
      "    using Materials Project parameters, this would look like\n",
      "    entry.parameters[\"potcar_symbols\"] = ['PAW_PBE Fe_pv 06Sep2000',\n",
      "    'PAW_PBE O 08Apr2002'].\n",
      "\n",
      "For the entry, this correction has the value 0.000000 eV.\n",
      "------------------------------\n",
      "MP Gas Correction correction: Correct gas energies to obtain the right formation energies. Note that\n",
      "    this depends on calculations being run within the same input set.\n",
      "\n",
      "For the entry, this correction has the value 0.000000 eV.\n",
      "------------------------------\n",
      "MP Anion Correction correction: Correct anion energies to obtain the right formation energies. Note that\n",
      "    this depends on calculations being run within the same input set.\n",
      "\n",
      "For the entry, this correction has the value -5.618320 eV.\n",
      "------------------------------\n",
      "MP Advanced Correction correction: This class implements the GGA/GGA+U mixing scheme, which allows mixing of\n",
      "    entries. Entry.parameters must contain a \"hubbards\" key which is a dict\n",
      "    of all non-zero Hubbard U values used in the calculation. For example,\n",
      "    if you ran a Fe2O3 calculation with Materials Project parameters,\n",
      "    this would look like entry.parameters[\"hubbards\"] = {\"Fe\": 5.3}\n",
      "    If the \"hubbards\" key is missing, a GGA run is assumed.\n",
      "\n",
      "    It should be noted that ComputedEntries assimilated using the\n",
      "    pymatgen.apps.borg package and obtained via the MaterialsProject REST\n",
      "    interface using the pymatgen.matproj.rest package will automatically have\n",
      "    these fields populated.\n",
      "\n",
      "For the entry, this correction has the value -5.466000 eV.\n",
      "------------------------------\n",
      "The final energy after corrections is -105.477193\n"
     ]
    }
   ],
   "source": [
    "entry = entries[0]\n",
    "compat = MaterialsProjectCompatibility()#实现了GGA / GGA + U混合方案，允许混合条目，这应仅用于使用MaterialsProject参数进行VASP计算\n",
    "compat.explain(entry)#打印显示出entry中的信息"
   ]
  },
  {
   "cell_type": "code",
   "execution_count": null,
   "metadata": {},
   "outputs": [],
   "source": [
    "\n"
   ]
  },
  {
   "cell_type": "code",
   "execution_count": null,
   "metadata": {},
   "outputs": [],
   "source": []
  }
 ],
 "metadata": {
  "kernelspec": {
   "display_name": "Python 3",
   "language": "python",
   "name": "python3"
  },
  "language_info": {
   "codemirror_mode": {
    "name": "ipython",
    "version": 3
   },
   "file_extension": ".py",
   "mimetype": "text/x-python",
   "name": "python",
   "nbconvert_exporter": "python",
   "pygments_lexer": "ipython3",
   "version": "3.6.5"
  }
 },
 "nbformat": 4,
 "nbformat_minor": 2
}
