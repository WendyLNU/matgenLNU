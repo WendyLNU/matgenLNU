{
 "cells": [
  {
   "cell_type": "markdown",
   "metadata": {},
   "source": [
    "2018-07-17"
   ]
  },
  {
   "cell_type": "markdown",
   "metadata": {},
   "source": [
    "<font size=5 face=\"黑体\">第一原理电子计算程序——Vasp的介绍(1)</font>"
   ]
  },
  {
   "cell_type": "markdown",
   "metadata": {},
   "source": [
    "<font size=5 color=purple face=\"微软雅黑\">vasp：</font>VASP是维也纳大学Hafner小组开发的进行电子结构计算和量子力学-分子动力学模拟软件包。它是目前材料模拟和计算物质科学研究中最流行的商用软件之一。"
   ]
  },
  {
   "cell_type": "markdown",
   "metadata": {},
   "source": [
    "<font size=4 color=green face=\"微软雅黑\">主要功能：</font><br>\n",
    "1、能量计算<br>\n",
    "2、计算材料的电子结构（能带结构、DOS、电荷密度分布）<br>\n",
    "3、构型优化（含过渡态）和反应途径<br>\n",
    "4、频率计算和HREELS能谱模拟<br>\n",
    "5、STM图像模拟<br>\n",
    "6、UPS能谱图像模拟<br>\n",
    "7、材料光学性质计算<br>\n",
    "8、其他性质的计算，包含功函和力学性质<br>"
   ]
  },
  {
   "cell_type": "markdown",
   "metadata": {},
   "source": [
    "<font size=4 color=green face=\"微软雅黑\">VASP输入和输出文件：</font><br>\n",
    "输入文件(<font color=red>文件名必须大写</font>）<br>\n",
    "<font color=blue>INCAR：</font>其内容为关键词，确定了计算参数以及目的<br>\n",
    "<font color=blue>POSCAR：</font>构型描述文件，主要包括平移矢量、原子类型和数目、以及各原子坐标<br>\n",
    "<font color=blue>KPOINTS：</font>K点定义文件，可以动手定义和自动产生<br>\n",
    "<font color=blue>POTCAR：</font>各原子的赝势定义文件<font color=red>（赝势，就是在离子实的内部，用假想的势能取代真实的势能，求解波动方程时，若不改变其能量本征值和离子实之间区域的波函数，则这个假想的势能就叫做赝势。由赝势求出的波函数叫赝波函数，在离子实之间的区域真实的势和赝势给出同样的波函数）</font><br>"
   ]
  },
  {
   "cell_type": "markdown",
   "metadata": {},
   "source": [
    "<font size=4 face=\"黑体\">主要输出文件:</font><br>\n",
    "<font color=blue>OUTCAR：</font>最重要的输出文件，包含了所有重要的信息<br>\n",
    "<font color=blue>OSZICAR：</font>输出计算过程的能量迭代信息<br>\n",
    "<font color=blue>CONTCAR：</font>内容为最新一轮的构型（分数坐标，<font color=red>可用于续算</font>）<br>\n",
    "<font color=blue>CHGCAR、CHG、PARCHG：</font>用于电荷密度图绘制<br>\n",
    "<font color=blue>WAVECAR：</font>波函数文件<br>\n",
    "<font color=blue>EIGENVAL：</font>记录个K点的能量本征值，用于绘制能带图<br>\n",
    "<font color=blue>XDATCAR：</font>构型迭代过程中各轮的构型信息（分数坐标，用于动力学模拟）<br>\n",
    "<font color=blue>DOSCAR：</font>态密度信息<br>\n",
    "<font color=red>备注:</font><br>OUTCAR和OSZICAR:能量和判断结构是否达到收敛,OUTCAR包含的信息更全面<br>\n",
    "CONTCAR:优化得到能量最低的结构，可以用VESTA直接打开<br>\n",
    "CHGCAR和CHG：结构的电荷分布，也可以用VESTA直接打开<br>\n",
    "DOSCAR和WAVECAR:经过脚本处理，得到电子结构信息<br>\n",
    "XDATCAR:跑分子动力学时，才用得到的文件<br>"
   ]
  },
  {
   "cell_type": "markdown",
   "metadata": {},
   "source": [
    "<font size=5 face=\"微软雅黑\">POSCAR文件内容说明:</font>"
   ]
  },
  {
   "cell_type": "markdown",
   "metadata": {},
   "source": [
    "Cs3 Li1 Cl4<font color=red>(Title)</font><br>\n",
    "1.0<font color=red>(比例因子或者晶格常数)</font><br>\n",
    "8.400000 0.000000 0.000000<font color=red>(第一个平移矢量的方向)</font><br>\n",
    "0.000000 8.400000 0.000000<font color=red>(第二个平移矢量的方向)</font><br>\n",
    "0.000000 0.000000 4.200000<font color=red>(第三个平移矢量的方向)</font><br>\n",
    "Cs Cl Li<br>\n",
    "3 4 1<font color=red>(单胞内原子数目以及原子种类)</font><br>\n",
    "Selective dynamics<font color=red>(表示对构型进行部分优化，如果没有这行，则表示全优化)</font><br>\n",
    "direct<font color=red>(表示所采用的为分数坐标，如果内容为Car，则坐标单位为埃)</font><br>\n",
    "0.010000 0.500000 0.000000 Cs<br>\n",
    "0.500000 0.000000 0.000000 Cs<br>\n",
    "0.500000 0.500000 0.000000 Cs<br>\n",
    "0.250000 0.250000 0.500000 Cl<br>\n",
    "0.250000 0.750000 0.500000 Cl<br>\n",
    "0.750000 0.250000 0.500000 Cl<br>\n",
    "0.750000 0.750000 0.500000 Cl<br>\n",
    "0.000000 0.000000 0.000000 Li<br>"
   ]
  },
  {
   "cell_type": "markdown",
   "metadata": {},
   "source": [
    "<font size=5 face=\"微软雅黑\">POTCAR文件内容说明:</font>"
   ]
  },
  {
   "cell_type": "markdown",
   "metadata": {},
   "source": [
    "<font color=purple>VASP</font>程序本身有提供了赝势库，只需要将体系各类原子的赝势合并在一起即可，但是需要注意到：<br>\n",
    "1、赝势的类型（US型赝势和PAW型赝势）<br>\n",
    "2、<font color=red>POTCAR中各原子赝势定义的顺序必须与POSCAR中相同</font><br>\n",
    "3、对各原子的赝势参数，我们最关心的是截至能以及电子数<br>\n",
    "4、POTCAR的泛函类型必须与INCAR中的GGA关键词定义的类型一致<br>\n",
    "5、使用zcat命令产生和合并POTCAR文件<br>"
   ]
  },
  {
   "cell_type": "markdown",
   "metadata": {},
   "source": [
    "<font size=5 face=\"微软雅黑\">KPOINTS文件内容说明:</font>"
   ]
  },
  {
   "cell_type": "markdown",
   "metadata": {},
   "source": [
    "一般有两种定义K点的方法：<br>\n",
    "（1)通过定义K-mesh大小，由程序自动产生各K点<br>\n",
    "（2）手动定义各K点的坐标（一般仅在计算能带结构时使用）<br>"
   ]
  },
  {
   "cell_type": "markdown",
   "metadata": {},
   "source": [
    "K-Points<font color=red>(title)</font><br>\n",
    " 0<font color=red>(为0时，表示自动产生K点)</font><br>\n",
    "Monkhorst Pack<font color=red>(表示采用Monkhorst Pack方法产生K点坐标)</font><br>\n",
    " 2  3  1<font color=red>(对应于2×3×1网格)</font><br>\n",
    " 0  0  0<font color=red>(原点平移大小)</font><br>"
   ]
  },
  {
   "cell_type": "code",
   "execution_count": null,
   "metadata": {},
   "outputs": [],
   "source": []
  }
 ],
 "metadata": {
  "kernelspec": {
   "display_name": "Python 3",
   "language": "python",
   "name": "python3"
  },
  "language_info": {
   "codemirror_mode": {
    "name": "ipython",
    "version": 3
   },
   "file_extension": ".py",
   "mimetype": "text/x-python",
   "name": "python",
   "nbconvert_exporter": "python",
   "pygments_lexer": "ipython3",
   "version": "3.6.5"
  }
 },
 "nbformat": 4,
 "nbformat_minor": 2
}
