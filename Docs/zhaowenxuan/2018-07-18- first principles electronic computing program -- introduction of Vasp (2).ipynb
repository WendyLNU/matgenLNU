{
 "cells": [
  {
   "cell_type": "markdown",
   "metadata": {},
   "source": [
    "2018-07-17"
   ]
  },
  {
   "cell_type": "markdown",
   "metadata": {},
   "source": [
    "<font size=5 face=\"黑体\">第一原理电子计算程序——Vasp的介绍(2)</font>"
   ]
  },
  {
   "cell_type": "markdown",
   "metadata": {},
   "source": [
    "<font size=5 face=\"微软雅黑\">INCAR文件内容说明:</font>"
   ]
  },
  {
   "cell_type": "markdown",
   "metadata": {},
   "source": [
    "INCAR文件里的内容主要为关键词，确定了vasp运行前的计算参数和就算目的。下面我将对INCAR里面的关键词的使用情况进行说明："
   ]
  },
  {
   "cell_type": "markdown",
   "metadata": {},
   "source": [
    "<font color=red>【例子:】</font>"
   ]
  },
  {
   "cell_type": "markdown",
   "metadata": {},
   "source": [
    "System =ZnNa2C12O5H6<br>\n",
    " Startparameter for this Run:<br>\n",
    "   NWRITE =      2;   LPETIM=F    write-flag & timer<br>\n",
    "   ENCUT =       400.000<br>\n",
    "   PREC   =      high<br>\n",
    "   ISTART =      0   job   : 0-new  1-cont  2-samecut<br>\n",
    "   ICHARG =      2    charge: 1-file 2-atom 10-const<br>\n",
    "   ISPIN  =      2    spin polarized calculation?<br>\n",
    "   INIWAV =      1    electr: 0-lowe 1-rand  2-diag<br>\n",
    "   NELM   =     100;   NELMIN= 2; NELMDL= -12     # of ELM steps<br>\n",
    "   #RWIGS =      0.80 1.05 0.4500<br>\n",
    "   #LORBIT =     12<br>\n",
    "   EDIFF  =     0.1E-06   stopping-criterion for ELM(allowed error in total energy,default 10E-4)<br>\n",
    "\n",
    " Ionic Relaxationv\n",
    "   EDIFFG =    -0.02   stopping-criterion for IOM(Ionic optimization Number),break condition for Ionic relax<br>\n",
    "   NSW    =      300  number of steps for IOM<br>\n",
    "   NBLOCK =      1;   KBLOCK =    300    inner block; outer block<br>\n",
    "   IBRION =      2   ionic relax: 0-MD 1-quasi-New 2-CG 5-frequency cal.<br>\n",
    "   ISIF   =      3   2-calculate force, stress tensor, relax ions, no change cell shape, cell volume<br>\n",
    "   IWAVPR =      1    prediction:  0-non 1-charg 2-wave 3-comb (relax:1,single point:0)<br>\n",
    "   ISYM   =      2    0-nonsym 1-usesym<br>\n",
    "   LCORR  =      T    Harris-correction to forces<br>\n",
    "   POTIM  =     0.5     time-step for ion-motion<br>\n",
    "   TEIN   =     5000.0    initial temperature<br>\n",
    "   TEBEG  =     5000.0;   TEEND  =     5000.0 temperature during run<br>\n",
    "   SMASS  =     -1    Nose mass-parameter (am)<br>\n",
    "   \n",
    "   IVDW   =      11<br>\n",
    "   VDW_RADIUS   =  50.2 <br>\n",
    "   VDW_CNRADIUS =  20.0 <br>\n",
    "   VDW_S6       =  1.0<br>\n",
    "   VDW_S8       =  0.772<br>\n",
    "   VDW_SR       =  1.217<br>\n",
    "   GGA     =     PE<br>\n",
    "  \n",
    "   Electronic Relaxation 2<br>\n",
    "   IALGO  =   48    algorithm 48-RMM, 38-Davison Block<br>\n",
    "   LDIAG  =   T     sub-space diagonalisation<br>\n",
    "   LWAVE  =   F<br>\n",
    "   LCHARG =   T<br>\n",
    "   LREAL  =   F     real-space projection<br>\n",
    "   NPAR =     1\n",
    "\n",
    " DOS related values:<br>\n",
    "   EMIN   =  10.00;   EMAX   = -10.00  energy-range for DOS<br>\n",
    "   ISMEAR =    0;   SIGMA  =    0.001  broadening in eV -4-tet -1-fermi 0-gaus<br>"
   ]
  },
  {
   "cell_type": "markdown",
   "metadata": {},
   "source": [
    "<font size=4>（1）System=string<br></font>\n",
    "默认：unknown system<br>\n",
    "作业说明语句<br>"
   ]
  },
  {
   "cell_type": "markdown",
   "metadata": {},
   "source": [
    "<font size=4>（2）ISTART=0|1|2</font><br>\n",
    "默认：存在WAVECAR文件时，为1；否则为0。<br>\n",
    "0新作业，由INIWAV决定初始波函数的产生方法。<br>\n",
    "1 Restart作业。波函数从WAVECAR文件读入，并根据现在的元胞几何（POSCAR文件）和ENCUT（INCAR文件）进行调整。如WAVECAR不存在或者不合适时，ISTART将回到0。当restart作业时，元胞几何或者ENCUT改变是推荐此设置。<br>\n",
    "2 Restart作业。波函数从WAVECAR文件读入，并不作波函数的调整（即使元胞几何和ENCUT已经改变）。如WAVECAR不存在或者不合适时，ISTART将回到0。在作例子驰豫时，如果同时也做元胞几何的驰豫时，在restart作业时可用此设置。在一般情况下不用。<br>"
   ]
  },
  {
   "cell_type": "markdown",
   "metadata": {},
   "source": [
    "<font size=4>（3）LREAL=.FALSE|.TRUE|On|Auto</font><br>\n",
    "默认：.FALSE<br>\n",
    "LREAL决定投影操作在实空间进行还是在倒空间进行<br>\n",
    "<font color=red>一般单胞尺寸大时，选实空间，小单胞选取倒易空间。</font><br>"
   ]
  },
  {
   "cell_type": "markdown",
   "metadata": {},
   "source": [
    "<font size=4>（4）PREC=Low|Medium|High|Accurate</font><br>\n",
    "默认：Medium<br>\n",
    "INCAR中未指定ENCUT时（即从POTCAR文件读入），PREC控制了ENCUT应该取什么值。PREC=Low时，ENCUT取POTCAR中的最小值ENMIN，PREC=Medium或Accurate时，ENCUT取POTCAR中的最大值ENMAX，而PREC=High时，ENCUT将取ENMAX的1.3倍。"
   ]
  },
  {
   "cell_type": "markdown",
   "metadata": {},
   "source": [
    "<font size=4>（5）ENCUT=数值</font><br>\n",
    "用户手动定义截至能，如果没有，则有PREC选项确定。"
   ]
  },
  {
   "cell_type": "markdown",
   "metadata": {},
   "source": [
    "<font size=4>（6）EDIFF=1e-4</font><br>\n",
    "总能计算中的允许误差，默认值为10的负4次方。<br>\n",
    "EDIFFG=EDIFF×10。<br>\n",
    "<font color=red>当数值为负数时，表示以力作为收敛标准</font>"
   ]
  },
  {
   "cell_type": "markdown",
   "metadata": {},
   "source": [
    "<font size=4>（7）ALGO=38|48</font><br>\n",
    "该关键词确定能量计算迭代方法<br>\n",
    "38-采用Davidson优化方法；（可靠，但速度慢）<br>\n",
    "48-采用RMM-DIIS算法；（常用，速度快）"
   ]
  },
  {
   "cell_type": "markdown",
   "metadata": {},
   "source": [
    "<font size=4>（8）ISYM=0|1|2</font><br>\n",
    "该关键词确定能量和构型优化时是否使用对称性（将影响到K点数目和计算量大小）<br>\n",
    "0-不使用对称性；<br>\n",
    "1-采用对称性；<br>\n",
    "2-用于PAW型赝势；"
   ]
  },
  {
   "cell_type": "markdown",
   "metadata": {},
   "source": [
    "<font size=4>（9）NELM=整数</font><br>\n",
    "该关键词确定能量自洽场最大迭代轮数，却省为60轮<br>\n",
    "<font size=4>NELMIN=整数</font><br>\n",
    "在构型优化中，计算每个构象能量时最少迭代轮数，一般为3~4，以保证能量和力的稳定性；"
   ]
  },
  {
   "cell_type": "markdown",
   "metadata": {},
   "source": [
    "<font size=4>（10）GGA=PW|PB|LM|91|PE|RP</font><br>\n",
    "<font color=red>定义DFT泛函类型，注意要与POTCAR中的赝势类型一致。</font>"
   ]
  },
  {
   "cell_type": "markdown",
   "metadata": {},
   "source": [
    "<font size=4>（11）ISPIN=1|2</font><br>\n",
    "1-非自旋极化计算（缺省）<br>\n",
    "2-自旋极化计算，将给出体系磁矩大小（对含有过渡金属原子体系，一般均要采用自旋极化方法）"
   ]
  },
  {
   "cell_type": "markdown",
   "metadata": {},
   "source": []
  },
  {
   "cell_type": "code",
   "execution_count": null,
   "metadata": {},
   "outputs": [],
   "source": []
  }
 ],
 "metadata": {
  "kernelspec": {
   "display_name": "Python 3",
   "language": "python",
   "name": "python3"
  },
  "language_info": {
   "codemirror_mode": {
    "name": "ipython",
    "version": 3
   },
   "file_extension": ".py",
   "mimetype": "text/x-python",
   "name": "python",
   "nbconvert_exporter": "python",
   "pygments_lexer": "ipython3",
   "version": "3.6.5"
  }
 },
 "nbformat": 4,
 "nbformat_minor": 2
}
