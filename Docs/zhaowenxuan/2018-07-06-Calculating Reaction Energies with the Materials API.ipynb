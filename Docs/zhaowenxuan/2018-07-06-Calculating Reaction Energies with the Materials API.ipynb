{
 "cells": [
  {
   "cell_type": "markdown",
   "metadata": {},
   "source": [
    "2018-07-06"
   ]
  },
  {
   "cell_type": "code",
   "execution_count": 1,
   "metadata": {},
   "outputs": [],
   "source": [
    "from  pymatgen.ext.matproj  import MPRester#Materials Project REST API的适配器\n",
    "from pymatgen import Composition#可以非常灵活的处理化学元素\n",
    "from pymatgen.entries.computed_entries import ComputedEntry#从数据获取的数据生成的ComputedEntries列表，主要用于管理数据的\n",
    "from pymatgen.core.units import FloatWithUnit#相关化学计算的单位转换功能\n",
    "from pymatgen.analysis.reaction_calculator import ComputedReaction#计算化学方程式反应的能量的"
   ]
  },
  {
   "cell_type": "markdown",
   "metadata": {},
   "source": [
    "在Pymatgen中我们可以获得一个强大的工具——Materials Project REST API的适配器。引入Materials Project REST API（简称Materials API），为用户提供了一种以编程方式查询材料数据的方法。这是一个用户友好的Materials API高级接口，用于获取有用的pymatgen对象以供进一步分析。要使用Materials API，您需要首先注册Materials Project，并在在网站中可以获取API秘钥。有了API秘钥我们可以得到一个化学式的所有相关信息（Pymatgen中称之为条目-entries），并根据得到这些entries做出许多复杂的分析。"
   ]
  },
  {
   "cell_type": "code",
   "execution_count": 3,
   "metadata": {},
   "outputs": [],
   "source": [
    "a = MPRester(\"S3lw1QomLO8bTiT7\")#这将初始化REST适配器，并且将API秘钥加入其中，可以从MP网站中获取到数据\n",
    "all_entries = a.get_entries_in_chemsys(['Ca', 'C', 'O'])#This gets all entries belonging to the Ca-C-O system."
   ]
  },
  {
   "cell_type": "code",
   "execution_count": 4,
   "metadata": {},
   "outputs": [],
   "source": [
    "def get_most_stable_entry(formula):\n",
    "    relevant_entries = [entry for entry in all_entries if entry.composition.reduced_formula == Composition(formula).reduced_formula]\n",
    "    relevant_entries = sorted(relevant_entries, key=lambda e: e.energy_per_atom)\n",
    "    return relevant_entries[0]"
   ]
  },
  {
   "cell_type": "code",
   "execution_count": 5,
   "metadata": {},
   "outputs": [],
   "source": [
    "CaO = get_most_stable_entry(\"CaO\")"
   ]
  },
  {
   "cell_type": "code",
   "execution_count": 6,
   "metadata": {},
   "outputs": [],
   "source": [
    "CO2 = get_most_stable_entry(\"CO2\")\n",
    "CaCO3 = get_most_stable_entry(\"CaCO3\")"
   ]
  },
  {
   "cell_type": "code",
   "execution_count": 7,
   "metadata": {},
   "outputs": [],
   "source": [
    "reaction = ComputedReaction([CaO, CO2], [CaCO3])"
   ]
  },
  {
   "cell_type": "markdown",
   "metadata": {},
   "source": [
    "用于从ComputedEntry对象生成反应的便捷类。\n",
    "ComputedReaction(反应物,生成物) 最后得到化学反应。"
   ]
  },
  {
   "cell_type": "code",
   "execution_count": 8,
   "metadata": {},
   "outputs": [],
   "source": [
    "energy = FloatWithUnit(reaction.calculated_reaction_energy, \"eV atom^-1\")"
   ]
  },
  {
   "cell_type": "code",
   "execution_count": 9,
   "metadata": {},
   "outputs": [
    {
     "name": "stdout",
     "output_type": "stream",
     "text": [
      "Caculated\n",
      "CaO + CO2 -> CaCO3\n",
      "Reaction energy = -146.92310939262524 kJ mol^-1\n"
     ]
    }
   ],
   "source": [
    "print(\"Caculated\")\n",
    "print(reaction)\n",
    "print(\"Reaction energy = {}\".format(energy.to(\"kJ mol^-1\")))"
   ]
  },
  {
   "cell_type": "markdown",
   "metadata": {},
   "source": [
    "下面的部分演示了如何获得实验值"
   ]
  },
  {
   "cell_type": "code",
   "execution_count": 10,
   "metadata": {},
   "outputs": [],
   "source": [
    "# The following portions demonstrate how to get the experimental values as well.\n",
    "exp_CaO = a.get_exp_entry(\"CaO\")\n",
    "exp_CaCO3 = a.get_exp_entry(\"CaCO3\")"
   ]
  },
  {
   "cell_type": "markdown",
   "metadata": {},
   "source": [
    "返回ExpEntry对象，它是ComputedEntry的实验等效对象，可用于使用实验数据进行分析。\n",
    "get_exp_entry(formula)：\n",
    "    Parameters:formula-化学式\n",
    "    Returns:一个ExpEntry对象"
   ]
  },
  {
   "cell_type": "code",
   "execution_count": 12,
   "metadata": {},
   "outputs": [],
   "source": [
    "#这是一个气相实验，而且数据库没有关于这个的数据条目，所以我们要自己创建。NIST是化学信息的标准参考数据库。这里的相关数据来自NIST\n",
    "exp_CO2 = ComputedEntry(\"CO2\", -393.51)#EXP条目应为KJ/mol。\n",
    "exp_reaction = ComputedReaction([exp_CaO, exp_CO2], [exp_CaCO3])"
   ]
  },
  {
   "cell_type": "code",
   "execution_count": 13,
   "metadata": {},
   "outputs": [
    {
     "name": "stdout",
     "output_type": "stream",
     "text": [
      "Experimental\n",
      "CaO + CO2 -> CaCO3\n",
      "Reaction energy = -178.30000000000018 kJ mol^-1\n"
     ]
    }
   ],
   "source": [
    "print(\"Experimental\")\n",
    "print(exp_reaction)\n",
    "print(\"Reaction energy = {} kJ mol^-1\".format(exp_reaction.calculated_reaction_energy))"
   ]
  },
  {
   "cell_type": "code",
   "execution_count": null,
   "metadata": {},
   "outputs": [],
   "source": []
  }
 ],
 "metadata": {
  "kernelspec": {
   "display_name": "Python 3",
   "language": "python",
   "name": "python3"
  },
  "language_info": {
   "codemirror_mode": {
    "name": "ipython",
    "version": 3
   },
   "file_extension": ".py",
   "mimetype": "text/x-python",
   "name": "python",
   "nbconvert_exporter": "python",
   "pygments_lexer": "ipython3",
   "version": "3.6.5"
  }
 },
 "nbformat": 4,
 "nbformat_minor": 2
}
