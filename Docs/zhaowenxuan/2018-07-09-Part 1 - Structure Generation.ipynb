{
 "cells": [
  {
   "cell_type": "markdown",
   "metadata": {},
   "source": [
    "2018-07-09"
   ]
  },
  {
   "cell_type": "code",
   "execution_count": 1,
   "metadata": {},
   "outputs": [],
   "source": [
    "from pymatgen import Structure\n",
    "from pymatgen.symmetry.analyzer import SpacegroupAnalyzer#空间群分析器\n",
    "from pymatgen.transformations.advanced_transformations import EnumerateStructureTransformation#枚举结构转换\n",
    "from pymatgen.io.vasp.sets import batch_write_input, MPRelaxSet"
   ]
  },
  {
   "cell_type": "code",
   "execution_count": 2,
   "metadata": {},
   "outputs": [
    {
     "name": "stdout",
     "output_type": "stream",
     "text": [
      "Full Formula (Li26.88 P4 S20 Cl4)\n",
      "Reduced Formula: Li26.88P4S20Cl4\n",
      "abc   :   9.859000   9.859000   9.859000\n",
      "angles:  90.000000  90.000000  90.000000\n",
      "Sites (76)\n",
      "  #  SP               a        b        c\n",
      "---  ---------  -------  -------  -------\n",
      "  0  Li+:0.560  0.3148   0.982    0.3148\n",
      "  1  Li+:0.560  0.982    0.6852   0.6852\n",
      "  2  Li+:0.560  0.6852   0.3148   0.018\n",
      "  3  Li+:0.560  0.3148   0.6852   0.018\n",
      "  4  Li+:0.560  0.982    0.3148   0.3148\n",
      "  5  Li+:0.560  0.6852   0.982    0.6852\n",
      "  6  Li+:0.560  0.3148   0.018    0.6852\n",
      "  7  Li+:0.560  0.6852   0.6852   0.982\n",
      "  8  Li+:0.560  0.3148   0.3148   0.982\n",
      "  9  Li+:0.560  0.6852   0.018    0.3148\n",
      " 10  Li+:0.560  0.018    0.6852   0.3148\n",
      " 11  Li+:0.560  0.018    0.3148   0.6852\n",
      " 12  Li+:0.560  0.3148   0.482    0.8148\n",
      " 13  Li+:0.560  0.982    0.1852   0.1852\n",
      " 14  Li+:0.560  0.6852   0.8148   0.518\n",
      " 15  Li+:0.560  0.3148   0.1852   0.518\n",
      " 16  Li+:0.560  0.982    0.8148   0.8148\n",
      " 17  Li+:0.560  0.6852   0.482    0.1852\n",
      " 18  Li+:0.560  0.3148   0.518    0.1852\n",
      " 19  Li+:0.560  0.6852   0.1852   0.482\n",
      " 20  Li+:0.560  0.3148   0.8148   0.482\n",
      " 21  Li+:0.560  0.6852   0.518    0.8148\n",
      " 22  Li+:0.560  0.018    0.1852   0.8148\n",
      " 23  Li+:0.560  0.018    0.8148   0.1852\n",
      " 24  Li+:0.560  0.8148   0.982    0.8148\n",
      " 25  Li+:0.560  0.482    0.6852   0.1852\n",
      " 26  Li+:0.560  0.1852   0.3148   0.518\n",
      " 27  Li+:0.560  0.8148   0.6852   0.518\n",
      " 28  Li+:0.560  0.482    0.3148   0.8148\n",
      " 29  Li+:0.560  0.1852   0.982    0.1852\n",
      " 30  Li+:0.560  0.8148   0.018    0.1852\n",
      " 31  Li+:0.560  0.1852   0.6852   0.482\n",
      " 32  Li+:0.560  0.8148   0.3148   0.482\n",
      " 33  Li+:0.560  0.1852   0.018    0.8148\n",
      " 34  Li+:0.560  0.518    0.6852   0.8148\n",
      " 35  Li+:0.560  0.518    0.3148   0.1852\n",
      " 36  Li+:0.560  0.8148   0.482    0.3148\n",
      " 37  Li+:0.560  0.482    0.1852   0.6852\n",
      " 38  Li+:0.560  0.1852   0.8148   0.018\n",
      " 39  Li+:0.560  0.8148   0.1852   0.018\n",
      " 40  Li+:0.560  0.482    0.8148   0.3148\n",
      " 41  Li+:0.560  0.1852   0.482    0.6852\n",
      " 42  Li+:0.560  0.8148   0.518    0.6852\n",
      " 43  Li+:0.560  0.1852   0.1852   0.982\n",
      " 44  Li+:0.560  0.8148   0.8148   0.982\n",
      " 45  Li+:0.560  0.1852   0.518    0.3148\n",
      " 46  Li+:0.560  0.518    0.1852   0.3148\n",
      " 47  Li+:0.560  0.518    0.8148   0.6852\n",
      " 48  P5+        0.5      0        0\n",
      " 49  P5+        0        0        0.5\n",
      " 50  P5+        0        0.5      0\n",
      " 51  P5+        0.5      0.5      0.5\n",
      " 52  S2-        0.25     0.75     0.25\n",
      " 53  S2-        0.75     0.75     0.75\n",
      " 54  S2-        0.75     0.25     0.25\n",
      " 55  S2-        0.25     0.25     0.75\n",
      " 56  S2-        0.38053  0.11947  0.11947\n",
      " 57  S2-        0.11947  0.88053  0.61947\n",
      " 58  S2-        0.88053  0.38053  0.88053\n",
      " 59  S2-        0.38053  0.88053  0.88053\n",
      " 60  S2-        0.11947  0.38053  0.11947\n",
      " 61  S2-        0.88053  0.11947  0.61947\n",
      " 62  S2-        0.11947  0.11947  0.38053\n",
      " 63  S2-        0.88053  0.61947  0.11947\n",
      " 64  S2-        0.11947  0.61947  0.88053\n",
      " 65  S2-        0.88053  0.88053  0.38053\n",
      " 66  S2-        0.61947  0.11947  0.88053\n",
      " 67  S2-        0.61947  0.88053  0.11947\n",
      " 68  S2-        0.38053  0.61947  0.61947\n",
      " 69  S2-        0.38053  0.38053  0.38053\n",
      " 70  S2-        0.61947  0.61947  0.38053\n",
      " 71  S2-        0.61947  0.38053  0.61947\n",
      " 72  Cl-        0        0        0\n",
      " 73  Cl-        0        0.5      0.5\n",
      " 74  Cl-        0.5      0        0.5\n",
      " 75  Cl-        0.5      0.5      0\n",
      "The composition after adjustments is Li6PS5Cl.\n",
      "Full Formula (Li6 P1 S5 Cl1)\n",
      "Reduced Formula: Li6PS5Cl\n",
      "abc   :   6.971366   6.971366   6.971366\n",
      "angles:  60.000000  60.000000  60.000000\n",
      "Sites (19)\n",
      "  #  SP               a        b        c\n",
      "---  ---------  -------  -------  -------\n",
      "  0  Li+:0.500  0.6116   0.018    0.018\n",
      "  1  Li+:0.500  0.3524   0.018    0.6116\n",
      "  2  Li+:0.500  0.018    0.018    0.3524\n",
      "  3  Li+:0.500  0.018    0.018    0.6116\n",
      "  4  Li+:0.500  0.6116   0.018    0.3524\n",
      "  5  Li+:0.500  0.3524   0.018    0.018\n",
      "  6  Li+:0.500  0.018    0.3524   0.6116\n",
      "  7  Li+:0.500  0.3524   0.6116   0.018\n",
      "  8  Li+:0.500  0.6116   0.3524   0.018\n",
      "  9  Li+:0.500  0.018    0.6116   0.3524\n",
      " 10  Li+:0.500  0.018    0.6116   0.018\n",
      " 11  Li+:0.500  0.018    0.3524   0.018\n",
      " 12  P5+        0.5      0.5      0.5\n",
      " 13  S2-        0.25     0.25     0.25\n",
      " 14  S2-        0.61947  0.61947  0.14159\n",
      " 15  S2-        0.61947  0.61947  0.61947\n",
      " 16  S2-        0.14159  0.61947  0.61947\n",
      " 17  S2-        0.61947  0.14159  0.61947\n",
      " 18  Cl-        1        0        0\n"
     ]
    },
    {
     "name": "stderr",
     "output_type": "stream",
     "text": [
      "G:\\Python\\canda\\lib\\site-packages\\pymatgen\\io\\cif.py:44: UserWarning: Please install optional dependency pybtex if youwant to extract references from CIF files.\n",
      "  warnings.warn(\"Please install optional dependency pybtex if you\"\n"
     ]
    }
   ],
   "source": [
    "structure = Structure.from_file(\"G:/Python/files/EntryWithCollCode418490.cif\")#我们将首先从ICSD中发现的晶体学信息文件（CIF）中读取结构\n",
    "print(structure)\n",
    "for i, site in enumerate(structure):\n",
    "    # change the occupancy of Li+ disordered sites to 0.5（也就是把结构矩阵中的Li+那一列调整为0.5）\n",
    "    if not site.is_ordered:\n",
    "        structure[i] = {\"Li+\": 0.5}\n",
    "print(\"The composition after adjustments is %s.\" % structure.composition.reduced_formula)#获得化学计量电荷平衡的L6PS5Cl。\n",
    "#为了保持可排序的顺序，我们只在原始单元上执行枚举。原始单元可以使用空间群分析器获得\n",
    "analyzer = SpacegroupAnalyzer(structure)\n",
    "prim_cell = analyzer.find_primitive()\n",
    "print(prim_cell)"
   ]
  },
  {
   "cell_type": "code",
   "execution_count": 3,
   "metadata": {},
   "outputs": [],
   "source": [
    "enum = EnumerateStructureTransformation()"
   ]
  },
  {
   "cell_type": "code",
   "execution_count": 4,
   "metadata": {},
   "outputs": [
    {
     "ename": "RuntimeError",
     "evalue": "EnumlibAdaptor requires the executables 'enum.x' or 'multienum.x' and 'makestr.x' or 'makeStr.py' to be in the path. Please download the library at http://enum.sourceforge.net/ and follow the instructions in the README to compile these two executables accordingly.",
     "output_type": "error",
     "traceback": [
      "\u001b[1;31m---------------------------------------------------------------------------\u001b[0m",
      "\u001b[1;31mRuntimeError\u001b[0m                              Traceback (most recent call last)",
      "\u001b[1;32m<ipython-input-4-e050e40bf4df>\u001b[0m in \u001b[0;36m<module>\u001b[1;34m()\u001b[0m\n\u001b[1;32m----> 1\u001b[1;33m \u001b[0menumerated\u001b[0m \u001b[1;33m=\u001b[0m \u001b[0menum\u001b[0m\u001b[1;33m.\u001b[0m\u001b[0mapply_transformation\u001b[0m\u001b[1;33m(\u001b[0m\u001b[0mprim_cell\u001b[0m\u001b[1;33m,\u001b[0m \u001b[1;36m100\u001b[0m\u001b[1;33m)\u001b[0m\u001b[1;33m\u001b[0m\u001b[0m\n\u001b[0m",
      "\u001b[1;32mG:\\Python\\canda\\lib\\site-packages\\pymatgen\\transformations\\advanced_transformations.py\u001b[0m in \u001b[0;36mapply_transformation\u001b[1;34m(self, structure, return_ranked_list)\u001b[0m\n\u001b[0;32m    366\u001b[0m                 \u001b[0menum_precision_parameter\u001b[0m\u001b[1;33m=\u001b[0m\u001b[0mself\u001b[0m\u001b[1;33m.\u001b[0m\u001b[0menum_precision_parameter\u001b[0m\u001b[1;33m,\u001b[0m\u001b[1;33m\u001b[0m\u001b[0m\n\u001b[0;32m    367\u001b[0m                 \u001b[0mcheck_ordered_symmetry\u001b[0m\u001b[1;33m=\u001b[0m\u001b[0mself\u001b[0m\u001b[1;33m.\u001b[0m\u001b[0mcheck_ordered_symmetry\u001b[0m\u001b[1;33m,\u001b[0m\u001b[1;33m\u001b[0m\u001b[0m\n\u001b[1;32m--> 368\u001b[1;33m                 timeout=self.timeout)\n\u001b[0m\u001b[0;32m    369\u001b[0m             \u001b[1;32mtry\u001b[0m\u001b[1;33m:\u001b[0m\u001b[1;33m\u001b[0m\u001b[0m\n\u001b[0;32m    370\u001b[0m                 \u001b[0madaptor\u001b[0m\u001b[1;33m.\u001b[0m\u001b[0mrun\u001b[0m\u001b[1;33m(\u001b[0m\u001b[1;33m)\u001b[0m\u001b[1;33m\u001b[0m\u001b[0m\n",
      "\u001b[1;32mG:\\Python\\canda\\lib\\site-packages\\monty-1.0.2-py3.6.egg\\monty\\dev.py\u001b[0m in \u001b[0;36mdecorated\u001b[1;34m(*args, **kwargs)\u001b[0m\n\u001b[0;32m     86\u001b[0m         \u001b[1;32mdef\u001b[0m \u001b[0mdecorated\u001b[0m\u001b[1;33m(\u001b[0m\u001b[1;33m*\u001b[0m\u001b[0margs\u001b[0m\u001b[1;33m,\u001b[0m \u001b[1;33m**\u001b[0m\u001b[0mkwargs\u001b[0m\u001b[1;33m)\u001b[0m\u001b[1;33m:\u001b[0m\u001b[1;33m\u001b[0m\u001b[0m\n\u001b[0;32m     87\u001b[0m             \u001b[1;32mif\u001b[0m \u001b[1;32mnot\u001b[0m \u001b[0mself\u001b[0m\u001b[1;33m.\u001b[0m\u001b[0mcondition\u001b[0m\u001b[1;33m:\u001b[0m\u001b[1;33m\u001b[0m\u001b[0m\n\u001b[1;32m---> 88\u001b[1;33m                 \u001b[1;32mraise\u001b[0m \u001b[0mRuntimeError\u001b[0m\u001b[1;33m(\u001b[0m\u001b[0mself\u001b[0m\u001b[1;33m.\u001b[0m\u001b[0mmessage\u001b[0m\u001b[1;33m)\u001b[0m\u001b[1;33m\u001b[0m\u001b[0m\n\u001b[0m\u001b[0;32m     89\u001b[0m             \u001b[1;32mreturn\u001b[0m \u001b[0m_callable\u001b[0m\u001b[1;33m(\u001b[0m\u001b[1;33m*\u001b[0m\u001b[0margs\u001b[0m\u001b[1;33m,\u001b[0m \u001b[1;33m**\u001b[0m\u001b[0mkwargs\u001b[0m\u001b[1;33m)\u001b[0m\u001b[1;33m\u001b[0m\u001b[0m\n\u001b[0;32m     90\u001b[0m         \u001b[1;32mreturn\u001b[0m \u001b[0mdecorated\u001b[0m\u001b[1;33m\u001b[0m\u001b[0m\n",
      "\u001b[1;31mRuntimeError\u001b[0m: EnumlibAdaptor requires the executables 'enum.x' or 'multienum.x' and 'makestr.x' or 'makeStr.py' to be in the path. Please download the library at http://enum.sourceforge.net/ and follow the instructions in the README to compile these two executables accordingly."
     ]
    }
   ],
   "source": [
    "enumerated = enum.apply_transformation(prim_cell, 100)"
   ]
  },
  {
   "cell_type": "code",
   "execution_count": null,
   "metadata": {},
   "outputs": [],
   "source": []
  }
 ],
 "metadata": {
  "kernelspec": {
   "display_name": "Python 3",
   "language": "python",
   "name": "python3"
  },
  "language_info": {
   "codemirror_mode": {
    "name": "ipython",
    "version": 3
   },
   "file_extension": ".py",
   "mimetype": "text/x-python",
   "name": "python",
   "nbconvert_exporter": "python",
   "pygments_lexer": "ipython3",
   "version": "3.6.5"
  }
 },
 "nbformat": 4,
 "nbformat_minor": 2
}
