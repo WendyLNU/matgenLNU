{
 "cells": [
  {
   "cell_type": "heading",
   "metadata": {},
   "level": 1,
   "source": [
    "如何在 MongoDB 中创建数据库？"
   ]
  },
  {
   "cell_type": "markdown",
   "metadata": {},
   "source": [
    "use 命令\n",
    "\n",
    "MongoDB使用 use DATABASE_NAME 命令来创建数据库。如果指定的数据库DATABASE_NAME不存在，则该命令将创建一个新的数据库，否则返回现有的数据库。\n",
    "\n",
    "语法\n",
    "\n",
    "use DATABASE 语句的基本语法如下 -\n",
    "\n",
    "use DATABASE_NAME"
   ]
  },
  {
   "cell_type": "markdown",
   "metadata": {},
   "source": [
    "# 示例"
   ]
  },
  {
   "cell_type": "markdown",
   "metadata": {},
   "source": [
    "如果要创建一个名称为<newdb>的数据库，那么使用 use DATABASE 语句将如下所示：\n",
    "\n",
    "\t> use newdb\n",
    "\n",
    " \t switched to db newdb\n",
    "\n",
    "  \tShell"
   ]
  },
  {
   "cell_type": "markdown",
   "metadata": {},
   "source": [
    "要检查当前选择的数据库，请使用 db 命令 -\n",
    "\n",
    "\t>db\n",
    "\tnewdb\n",
    "\tShell"
   ]
  },
  {
   "cell_type": "markdown",
   "metadata": {},
   "source": [
    "如果要检查数据库列表，请使用命令：show dbs。\n",
    " \n",
    "\t>show dbs\n",
    "\tlocal     0.000025GB\n",
    "\ttest      0.00002GB\n",
    "\tshell"
   ]
  },
  {
   "cell_type": "markdown",
   "metadata": {},
   "source": [
    "创建的数据库(newdb)不在列表中。要显示数据库，需要至少插入一个文档，空的数据库是不显示出来的。\n",
    "\n",
    "\t>db.items.insert({\"name\":\"yiibai tutorials\"})\n",
    "\t>show dbs\n",
    "\tlocal     0.00005GB\n",
    "\ttest      0.00002GB\n",
    "\tnewdb      0.00002GB\n",
    "\tShell\n",
    "在 MongoDB 中默认数据库是：test。 如果您还没有创建过任何数据库，则集合/文档将存储在test数据库中。"
   ]
  },
  {
   "cell_type": "code",
   "execution_count": null,
   "metadata": {},
   "outputs": [],
   "source": [
    ""
   ]
  }
 ],
 "metadata": {},
 "nbformat": 4,
 "nbformat_minor": 0
}