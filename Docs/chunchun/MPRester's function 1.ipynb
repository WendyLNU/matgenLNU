{
 "cells": [
  {
   "cell_type": "code",
   "execution_count": null,
   "metadata": {},
   "outputs": [],
   "source": [
    "def parse_sym(sym):\n",
    "            if sym == \"*\":\n",
    "                return [el.symbol for el in Element]\n",
    "            else:\n",
    "                m = re.match(r\"\\{(.*)\\}\", sym)\n",
    "                if m:\n",
    "                    return [s.strip() for s in m.group(1).split(\",\")]\n",
    "                else:\n",
    "                    return [sym]"
   ]
  },
  {
   "cell_type": "markdown",
   "metadata": {},
   "source": [
    ""
   ]
  },
  {
   "cell_type": "markdown",
   "metadata": {},
   "source": [
    "此函数功能为输入一值，若此值为*，则返回在element中每一个元素的sympol值\n",
    "否则若此值在字符串\\{(.*)\\}中能找到对应，则返回group(1)中用“，”分开的每一段字符串并同时去掉空格换行符和制表符；若找不到对应，则返回原值"
   ]
  },
  {
   "cell_type": "markdown",
   "metadata": {},
   "source": [
    "希望能得到批评指正，因为是从后面的函数往前看的，在这一段函数里感觉又牵扯了很多前面的小东西\n"
   ]
  },
  {
   "cell_type": "code",
   "execution_count": null,
   "metadata": {},
   "outputs": [],
   "source": [
    ""
   ]
  }
 ],
 "metadata": {},
 "nbformat": 4,
 "nbformat_minor": 0
}