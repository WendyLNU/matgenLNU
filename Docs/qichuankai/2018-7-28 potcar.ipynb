{
 "cells": [
  {
   "cell_type": "markdown",
   "metadata": {
    "collapsed": true
   },
   "source": [
    "# vasp的输入文件（四）"
   ]
  },
  {
   "cell_type": "heading",
   "metadata": {},
   "level": 1,
   "source": [
    "\n",
    "\n"
   ]
  },
  {
   "cell_type": "markdown",
   "metadata": {},
   "source": [
    "# 实列（Cr、I）"
   ]
  },
  {
   "cell_type": "markdown",
   "metadata": {},
   "source": [
    "\n"
   ]
  },
  {
   "cell_type": "markdown",
   "metadata": {},
   "source": [
    "1. incar文件\n",
    "2. poscar文件（坐标文件）\n",
    "3. kpoint文件（前三种文件的配置赵纹萱已经在之前的文档中介绍过了，我就不一一介绍了，但是需要了解其中的位置关系和顺序）\n"
   ]
  },
  {
   "cell_type": "markdown",
   "metadata": {},
   "source": []
  },
  {
   "cell_type": "markdown",
   "metadata": {},
   "source": [
    "4. postcar文件（赝势文件）  \n",
    "\n",
    "       (1) cat  Cr/POTCAR>>POTCAR     cat  I/POTCAR>>POTCAR\n",
    "\n",
    "       （也可以写成 cat Cr/POTCAR I/POTCAR>>POTCAR）按照之前poscar文件中的顺序将两个赝势文件写在一起（必须按照顺序来读取两个赝势文件)\n",
    "\n",
    "      （2）当命令完成时会有一个赝势的文件在系统中出现就是我们所需要的potcar文件\n",
    "\n",
    "\n",
    "      （3）当然在选择赝势时也有软硬之分。所谓的硬（难以赝化），就是指该元素原子的截断动能比较大，假想的势能与实际比较接近，计算得到的结果准确，但比较耗时，难以收敛。\n",
    "\n",
    "软（容易赝化）表示该元素原子的截断动能比较小，赝势模型比较粗糙，但相对简单，可以使计算很快收敛（比如VASP开发的超软赝势）。因为模拟计算中不可能做到即模型简单又计算不耗时，所以我\n",
    "们可以根据自己的计算精度来选择不同的赝势。\n",
    "\n",
    "\t\n"
   ]
  },
  {
   "cell_type": "markdown",
   "metadata": {},
   "source": [
    ""
   ]
  },
  {
   "cell_type": "markdown",
   "metadata": {},
   "source": [
    "\n"
   ]
  },
  {
   "cell_type": "markdown",
   "metadata": {},
   "source": [
    "注：赝势文件 \n",
    "    \n",
    "赝势：就是在离子实的内部，用假想的势能取代真实的势能，求解波动方程时，若不改变其能量本征值和离子实之间区域的波函数，则这个假想的势能就叫做赝势。由赝势求出的波函数叫赝波函数，在离子实之间的区域真实的势和赝势给出同样的波函数。\n",
    "\n",
    "通常各元素的POTCAR已经包括在软件包里了，我们只需要按照POSCAR里的顺序，将各元素的POTCAR按顺序连接起来就可以了（vasp中有一个赝势库，对于我们现在的研究深度是能够满足我们的需求的）\n"
   ]
  },
  {
   "cell_type": "markdown",
   "metadata": {},
   "source": []
  }
 ],
 "metadata": {
  "kernelspec": {
   "display_name": "Python 2",
   "language": "python",
   "name": "python2"
  },
  "language_info": {
   "codemirror_mode": {
    "name": "ipython",
    "version": 2
   },
   "file_extension": ".py",
   "mimetype": "text/x-python",
   "name": "python",
   "nbconvert_exporter": "python",
   "pygments_lexer": "ipython2",
   "version": "2.7.6"
  }
 },
 "nbformat": 4,
 "nbformat_minor": 0
}
