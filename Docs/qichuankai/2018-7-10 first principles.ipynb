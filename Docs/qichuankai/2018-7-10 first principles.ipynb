{
 "cells": [
  {
   "cell_type": "code",
   "execution_count": null,
   "metadata": {
    "collapsed": true
   },
   "outputs": [],
   "source": [
    "from pymatgen import Structure\n",
    "from pymatgen.symmetry.analyzer import SpacegroupAnalyzer\n",
    "from pymatgen.transformations.advanced_transformations import EnumerateStructureTransformation\n",
    "from pymatgen.io.vasp.sets import batch_write_input, MPRelaxSet"
   ]
  },
  {
   "cell_type": "heading",
   "metadata": {},
   "level": 2,
   "source": [
    "我们将首先从ICSD中发现的晶体学信息文件（CIF）中读取结构,在自己的环境下运行的时候需要将目录调节到自己熟悉并且清晰的文件夹下，为了方便以后的工作 这里我选用的自己的开发路径，自己调试是需要修改"
   ]
  },
  {
   "cell_type": "code",
   "execution_count": null,
   "metadata": {},
   "outputs": [],
   "source": [
    "structure = Structure.from_file(\"D:/Program Files (x86)/python2/file/EntryWithCollCode418490.cif\")\n",
    "print(structure)"
   ]
  },
  {
   "cell_type": "heading",
   "metadata": {},
   "level": 1,
   "source": [
    "Li的占有率高于预期的LI6PS5CL标称成分。我们将首先调整李的占有率为0.5，以获得化学计量电荷平衡的L6PS5Cl，这里涉及空间群分析这个问题，在例子中有简单的介绍"
   ]
  },
  {
   "cell_type": "code",
   "execution_count": null,
   "metadata": {},
   "outputs": [],
   "source": [
    "for i, site in enumerate(structure):\n",
    "    # （enumerate 为枚举类型）\n",
    "    # change the occupancy of Li+ disordered sites to 0.5\n",
    "    if not site.is_ordered:\n",
    "        structure[i] = {\"Li+\": 0.5}\n",
    "print(\"The composition after adjustments is %s.\" % structure.composition.reduced_formula)\n",
    "analyzer = SpacegroupAnalyzer(structure)\n",
    "analyzer = SpacegroupAnalyzer(structure)\n",
    "prim_cell = analyzer.find_primitive()\n",
    "print(prim_cell)"
   ]
  },
  {
   "cell_type": "heading",
   "metadata": {},
   "level": 1,
   "source": []
  },
  {
   "cell_type": "code",
   "execution_count": null,
   "metadata": {},
   "outputs": [],
   "source": [
    "enum = EnumerateStructureTransformation()\n",
    "enumerated = enum.apply_transformation(prim_cell, 100)  # return no more than 100 structures\n",
    "structures = [d[\"structure\"] for d in enumerated]  \n",
    "print(\"%d structures returned.\" % len(structures))"
   ]
  },
  {
   "cell_type": "heading",
   "metadata": {},
   "level": 2,
   "source": [
    "Full Formula (Li26.88 P4 S20 Cl4)\n",
    "Reduced Formula: Li26.88P4S20Cl4\n",
    "abc   :   9.859000   9.859000   9.859000\n",
    "angles:  90.000000  90.000000  90.000000\n",
    "Sites (76)\n",
    "  #  SP               a        b        c\n",
    "---  ---------  -------  -------  -------\n",
    "  0  Li+:0.560  0.3148   0.982    0.3148\n",
    "  1  Li+:0.560  0.982    0.6852   0.6852\n",
    "  2  Li+:0.560  0.6852   0.3148   0.018\n",
    "  3  Li+:0.560  0.3148   0.6852   0.018\n",
    "  4  Li+:0.560  0.982    0.3148   0.3148\n",
    "  5  Li+:0.560  0.6852   0.982    0.6852\n",
    "  6  Li+:0.560  0.3148   0.018    0.6852\n",
    "  7  Li+:0.560  0.6852   0.6852   0.982\n",
    "  8  Li+:0.560  0.3148   0.3148   0.982\n",
    "  9  Li+:0.560  0.6852   0.018    0.3148\n",
    " 10  Li+:0.560  0.018    0.6852   0.3148\n",
    " 11  Li+:0.560  0.018    0.3148   0.6852\n",
    " 12  Li+:0.560  0.3148   0.482    0.8148\n",
    " 13  Li+:0.560  0.982    0.1852   0.1852\n",
    " 14  Li+:0.560  0.6852   0.8148   0.518\n",
    " 15  Li+:0.560  0.3148   0.1852   0.518\n",
    " 16  Li+:0.560  0.982    0.8148   0.8148\n",
    " 17  Li+:0.560  0.6852   0.482    0.1852\n",
    " 18  Li+:0.560  0.3148   0.518    0.1852\n",
    " 19  Li+:0.560  0.6852   0.1852   0.482\n",
    " 20  Li+:0.560  0.3148   0.8148   0.482\n",
    " 21  Li+:0.560  0.6852   0.518    0.8148\n",
    " 22  Li+:0.560  0.018    0.1852   0.8148\n",
    " 23  Li+:0.560  0.018    0.8148   0.1852\n",
    " 24  Li+:0.560  0.8148   0.982    0.8148\n",
    " 25  Li+:0.560  0.482    0.6852   0.1852\n",
    " 26  Li+:0.560  0.1852   0.3148   0.518\n",
    " 27  Li+:0.560  0.8148   0.6852   0.518\n",
    " 28  Li+:0.560  0.482    0.3148   0.8148\n",
    " 29  Li+:0.560  0.1852   0.982    0.1852\n",
    " 30  Li+:0.560  0.8148   0.018    0.1852\n",
    " 31  Li+:0.560  0.1852   0.6852   0.482\n",
    " 32  Li+:0.560  0.8148   0.3148   0.482\n",
    " 33  Li+:0.560  0.1852   0.018    0.8148\n",
    " 34  Li+:0.560  0.518    0.6852   0.8148\n",
    " 35  Li+:0.560  0.518    0.3148   0.1852\n",
    " 36  Li+:0.560  0.8148   0.482    0.3148\n",
    " 37  Li+:0.560  0.482    0.1852   0.6852\n",
    " 38  Li+:0.560  0.1852   0.8148   0.018\n",
    " 39  Li+:0.560  0.8148   0.1852   0.018\n",
    " 40  Li+:0.560  0.482    0.8148   0.3148\n",
    " 41  Li+:0.560  0.1852   0.482    0.6852\n",
    " 42  Li+:0.560  0.8148   0.518    0.6852\n",
    " 43  Li+:0.560  0.1852   0.1852   0.982\n",
    " 44  Li+:0.560  0.8148   0.8148   0.982\n",
    " 45  Li+:0.560  0.1852   0.518    0.3148\n",
    " 46  Li+:0.560  0.518    0.1852   0.3148\n",
    " 47  Li+:0.560  0.518    0.8148   0.6852\n",
    " 48  P5+        0.5      0        0\n",
    " 49  P5+        0        0        0.5\n",
    " 50  P5+        0        0.5      0\n",
    " 51  P5+        0.5      0.5      0.5\n",
    " 52  S2-        0.25     0.75     0.25\n",
    " 53  S2-        0.75     0.75     0.75\n",
    " 54  S2-        0.75     0.25     0.25\n",
    " 55  S2-        0.25     0.25     0.75\n",
    " 56  S2-        0.38053  0.11947  0.11947\n",
    " 57  S2-        0.11947  0.88053  0.61947\n",
    " 58  S2-        0.88053  0.38053  0.88053\n",
    " 59  S2-        0.38053  0.88053  0.88053\n",
    " 60  S2-        0.11947  0.38053  0.11947\n",
    " 61  S2-        0.88053  0.11947  0.61947\n",
    " 62  S2-        0.11947  0.11947  0.38053\n",
    " 63  S2-        0.88053  0.61947  0.11947\n",
    " 64  S2-        0.11947  0.61947  0.88053\n",
    " 65  S2-        0.88053  0.88053  0.38053\n",
    " 66  S2-        0.61947  0.11947  0.88053\n",
    " 67  S2-        0.61947  0.88053  0.11947\n",
    " 68  S2-        0.38053  0.61947  0.61947\n",
    " 69  S2-        0.38053  0.38053  0.38053\n",
    " 70  S2-        0.61947  0.61947  0.38053\n",
    " 71  S2-        0.61947  0.38053  0.61947\n",
    " 72  Cl-        0        0        0\n",
    " 73  Cl-        0        0.5      0.5\n",
    " 74  Cl-        0.5      0        0.5\n",
    " 75  Cl-        0.5      0.5      0\n",
    "The composition after adjustments is Li6PS5Cl.\n",
    "Full Formula (Li6 P1 S5 Cl1)\n",
    "Reduced Formula: Li6PS5Cl\n",
    "abc   :   6.971366   6.971366   6.971366\n",
    "angles:  60.000000  60.000000  60.000000\n",
    "Sites (19)\n",
    "  #  SP               a        b        c\n",
    "---  ---------  -------  -------  -------\n",
    "  0  Li+:0.500  0.6116   0.018    0.018\n",
    "  1  Li+:0.500  0.3524   0.018    0.6116\n",
    "  2  Li+:0.500  0.018    0.018    0.3524\n",
    "  3  Li+:0.500  0.018    0.018    0.6116\n",
    "  4  Li+:0.500  0.6116   0.018    0.3524\n",
    "  5  Li+:0.500  0.3524   0.018    0.018\n",
    "  6  Li+:0.500  0.018    0.3524   0.6116\n",
    "  7  Li+:0.500  0.3524   0.6116   0.018\n",
    "  8  Li+:0.500  0.6116   0.3524   0.018\n",
    "  9  Li+:0.500  0.018    0.6116   0.3524\n",
    " 10  Li+:0.500  0.018    0.6116   0.018\n",
    " 11  Li+:0.500  0.018    0.3524   0.018\n",
    " 12  P5+        0.5      0.5      0.5\n",
    " 13  S2-        0.25     0.25     0.25\n",
    " 14  S2-        0.61947  0.61947  0.14159\n",
    " 15  S2-        0.61947  0.61947  0.61947\n",
    " 16  S2-        0.14159  0.61947  0.61947\n",
    " 17  S2-        0.61947  0.14159  0.61947\n",
    " 18  Cl-        1        0        0\n"
   ]
  }
 ],
 "metadata": {
  "kernelspec": {
   "display_name": "Python 2",
   "language": "python",
   "name": "python2"
  },
  "language_info": {
   "codemirror_mode": {
    "name": "ipython",
    "version": 2
   },
   "file_extension": ".py",
   "mimetype": "text/x-python",
   "name": "python",
   "nbconvert_exporter": "python",
   "pygments_lexer": "ipython2",
   "version": "2.7.6"
  }
 },
 "nbformat": 4,
 "nbformat_minor": 0
}
